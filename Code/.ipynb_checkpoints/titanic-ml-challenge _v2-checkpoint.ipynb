{
 "cells": [
  {
   "cell_type": "markdown",
   "metadata": {
    "_cell_guid": "b1076dfc-b9ad-4769-8c92-a6c4dae69d19",
    "_uuid": "8f2839f25d086af736a60e9eeb907d3b93b6e0e5"
   },
   "source": [
    "## Import Libraries"
   ]
  },
  {
   "cell_type": "code",
   "execution_count": 1,
   "metadata": {},
   "outputs": [],
   "source": [
    "import numpy as np \n",
    "import pandas as pd \n",
    "import matplotlib.pyplot as plt\n",
    "import matplotlib.ticker as mticker\n",
    "import seaborn as sns\n",
    "import os\n",
    "import matplotlib.gridspec as gridspec\n",
    "from scipy import stats\n",
    "%matplotlib inline"
   ]
  },
  {
   "cell_type": "code",
   "execution_count": 107,
   "metadata": {},
   "outputs": [],
   "source": [
    "import warnings\n",
    "warnings.filterwarnings(\"ignore\")"
   ]
  },
  {
   "cell_type": "markdown",
   "metadata": {},
   "source": [
    "## Global Variables"
   ]
  },
  {
   "cell_type": "code",
   "execution_count": 2,
   "metadata": {},
   "outputs": [],
   "source": [
    "data_folder_name = 'Data'\n",
    "raw_data_folder_name = 'Raw_Data'\n",
    "train_csv_name = 'train.csv'\n",
    "test_csv_name = 'test.csv'"
   ]
  },
  {
   "cell_type": "markdown",
   "metadata": {},
   "source": [
    "## File paths"
   ]
  },
  {
   "cell_type": "code",
   "execution_count": 3,
   "metadata": {},
   "outputs": [],
   "source": [
    "project_path = os.path.abspath(os.path.join(os.getcwd(),os.pardir))\n",
    "data_folder = os.path.join(project_path,data_folder_name)\n",
    "raw_data_path = os.path.join(data_folder,raw_data_folder_name)\n",
    "train_data_path = os.path.join(raw_data_path,train_csv_name)\n",
    "test_data_path = os.path.join(raw_data_path,test_csv_name)"
   ]
  },
  {
   "cell_type": "markdown",
   "metadata": {},
   "source": [
    "## Helper Functions"
   ]
  },
  {
   "cell_type": "code",
   "execution_count": 394,
   "metadata": {},
   "outputs": [],
   "source": [
    "#------------------------------------Describing---------------------------\n",
    "def describe_IQR(df):\n",
    "    desc_df = pd.DataFrame(df.describe())\n",
    "    iqr_series = desc_df.loc['75%'] - desc_df.loc['25%']\n",
    "    frame = {'IQR': iqr_series}\n",
    "    desc_df = desc_df.append(pd.DataFrame(frame).T)\n",
    "    \n",
    "    min_thresh = desc_df.loc['25%'] - 1.5*desc_df.loc['IQR']\n",
    "    max_thresh = desc_df.loc['75%'] + 1.5*desc_df.loc['IQR']\n",
    "\n",
    "    frame = {'min_IQR_thresh':min_thresh, 'max_IQR_thresh':max_thresh}\n",
    "    desc_df = desc_df.append(pd.DataFrame(frame).T)\n",
    "\n",
    "    return desc_df\n",
    "#---------------------------------------------------------------\n",
    "def unique_identifiers(train_data):\n",
    "    dic = dict()\n",
    "\n",
    "    for column in train_data.columns:\n",
    "        column_uniqueness = train_data[column].nunique()\n",
    "        dic[column] =column_uniqueness\n",
    "\n",
    "    uniques_df = pd.DataFrame(pd.Series(dic).sort_values(ascending=False), columns={'#unique'})\n",
    "    uniques_df['%unique'] = round((uniques_df['#unique']/m)*100,2)\n",
    "    uniques_df['unique_identifier_flag'] = uniques_df['%unique'].apply(lambda x:'Y' if x==100.00 else 'N')\n",
    "    return uniques_df\n",
    "#---------------------------------------------------------------\n",
    "def numeric_desc(df):  #what is density?\n",
    "    df = df.select_dtypes(include=[np.number])\n",
    "    unique_identifier_cols = df.columns[df.columns.isin(unique_identifiers)]\n",
    "    NoNunique_identifier_cols = df.columns[~df.columns.isin(unique_identifiers)]\n",
    "    desc = pd.DataFrame()\n",
    "    desc['Type'] = df.dtypes\n",
    "    desc['Density'] = np.nan\n",
    "    desc['No. of Values'] = df.count()\n",
    "    desc['No. of Unique Values'] = df.nunique(dropna=False) # taking nans into consideration\n",
    "    desc['No. of NaN'] = df.apply(np.isnan, axis=1).sum()\n",
    "    desc['No. of Zeros'] = len(df)- np.count_nonzero(df, axis=0)\n",
    "    desc['No. of +ve Values'] = df.apply(lambda x: x>0).sum()\n",
    "    desc['Min'] = df.min()\n",
    "    desc['Max'] = df.max()\n",
    "    desc['Mean'] = df.mean()\n",
    "    desc['Std'] = df.std()\n",
    "    desc['Median'] = df.median(skipna=False) # taking nans into consideration\n",
    "    desc['Mode'] = df[NoNunique_identifier_cols].mode().T #remove the columns that have 100% uniqueness\n",
    "    desc['Skew'] = df.skew()\n",
    "    desc['Kurtosis'] = df.kurtosis() #-ve >> left tailed dist // +ve >> right tailed //0 >>normal dist\n",
    "    desc['No. of 3 Sigma Outliers'] = (np.abs(stats.zscore(df,nan_policy='omit')) > 3).sum(axis=0) #omitting nans to match describe2\n",
    "    return desc\n",
    "#---------------------------------------------------------------\n",
    "def object_desc(df):  #what is density?\n",
    "    df = df.select_dtypes(include=[np.object])\n",
    "    desc = pd.DataFrame(index=df.columns)\n",
    "    desc['Type'] = df.dtypes\n",
    "    desc['Density'] = np.nan\n",
    "    desc['No. of Values'] = df.count() #non na values\n",
    "    desc['No. of Unique Values'] = df.nunique(dropna=False) # taking nans into consideration\n",
    "    desc['No. of NaN'] = df.isnull().sum()\n",
    "    return desc\n",
    "\n",
    "def desc(df):\n",
    "    nums =  numeric_desc(df)\n",
    "    obj =   object_desc(df)\n",
    "    return nums,obj  \n",
    "#---------------------------------------------------------------\n",
    "#------------------------------------Plotting---------------------------\n",
    "#---------------------------------------------------------------\n",
    "def colors_list(unique_list):\n",
    "    length = len(unique_list)\n",
    "    colors_list = ['orange']\n",
    "    colors_list.extend(['blue']*(length-1))\n",
    "    return colors_list\n",
    "\n",
    "#---------------------------------------------------------------\n",
    "\n",
    "def colors_list_sorted(train_data_copy,var_name,var_unique_list):\n",
    "    train_data_copy = train_data_copy.set_index(var_name)\n",
    "    means_index_sorted = pd.DataFrame(train_data_copy.groupby(level=0)['Survived'].mean()).sort_values(by='Survived',ascending=False)\n",
    "    colors_listed = colors_list(var_unique_list)\n",
    "    colors_df = pd.DataFrame(index = means_index_sorted.index, data= {'colors': colors_listed})\n",
    "    colors_df = colors_df.sort_index()\n",
    "    return list(colors_df.sort_index()['colors'])\n",
    "\n",
    "#---------------------------------------------------------------\n",
    "\n",
    "def variable_mean_survival(var_name):\n",
    "    train_data_copy = train_data[~train_data[var_name].isna()]\n",
    "    train_data_copy['Survived'] =  train_data_copy['Survived'].astype(int)\n",
    "    if train_data_copy[var_name].dtype.name != 'category':\n",
    "        var_unique_list = sorted(list(train_data_copy[var_name].unique())) \n",
    "    else:\n",
    "        var_unique_list = list(train_data[var_name].dtype.categories)\n",
    "    countPerVarValue = pd.DataFrame(train_data_copy.groupby(var_name)['PassengerId'].count(),index = var_unique_list)['PassengerId'] \n",
    "    avg_survival = pd.DataFrame(train_data_copy.set_index(var_name).groupby(level=0)['Survived'].mean(),index = var_unique_list)['Survived']\n",
    "\n",
    "    colors_map = colors_list_sorted(train_data_copy,var_name,var_unique_list)\n",
    "                                      \n",
    "    return var_unique_list, countPerVarValue, avg_survival, colors_map\n",
    "\n",
    "def variable_mean_survival_subset(df,var_name):\n",
    "    train_data_copy = df[~train_data[var_name].isna()]\n",
    "    train_data_copy['Survived'] =  train_data_copy['Survived'].astype(int)\n",
    "    var_unique_list = sorted(list(train_data_copy[var_name].unique()))     \n",
    "    countPerVarValue = pd.DataFrame(train_data_copy.groupby(var_name)['PassengerId'].count(),index = var_unique_list)['PassengerId'] \n",
    "    avg_survival = pd.DataFrame(train_data_copy.set_index(var_name).groupby(level=0)['Survived'].mean(),index = var_unique_list)['Survived']\n",
    "\n",
    "    colors_map = colors_list_sorted(train_data_copy,var_name,var_unique_list)\n",
    "                                      \n",
    "    return var_unique_list, countPerVarValue, avg_survival, colors_map\n",
    "\n",
    "#---------------------------------------------------------------\n",
    "\n",
    "def plt_settings(cur_plt, ititle):\n",
    "    ax = cur_plt.gca()\n",
    "    for spine in ax.spines:\n",
    "        ax.spines[spine].set_visible(False)\n",
    "    ax.tick_params(axis=u'both', which=u'both',length=0)\n",
    "    #ax.get_yaxis().set_visible(False)  \n",
    "    ax.set_yticklabels([])\n",
    "    plt.title(ititle)\n",
    "    for i, rect in enumerate(ax.patches):\n",
    "        height = rect.get_height()\n",
    "        ax.text(rect.get_x() + rect.get_width() / 2, height,  str(round(height, 2)),\n",
    "                ha='center', va='bottom')  \n",
    "#---------------------------------------------------------------\n",
    "\n",
    "def plt_simple_settings(cur_plt, ititle):\n",
    "    ax = cur_plt.gca()\n",
    "    for spine in ax.spines:\n",
    "        ax.spines[spine].set_visible(False)\n",
    "    ax.tick_params(axis=u'both', which=u'both',length=0)\n",
    "    #ax.get_yaxis().set_visible(False)  \n",
    "    #ax.set_yticklabels([])\n",
    "    plt.title(ititle)\n",
    "    #for i, rect in enumerate(ax.patches):\n",
    "     #   height = rect.get_height()\n",
    "     #   ax.text(rect.get_x() + rect.get_width() / 2, height,  str(round(height, 2)),\n",
    "     #           ha='center', va='bottom')        \n",
    "\n",
    "#---------------------------------------------------------------\n",
    "\n",
    "def remove_top_right_spines(cur_plt):\n",
    "    ax = cur_plt.gca()\n",
    "    ax.spines['right'].set_visible(False)\n",
    "    ax.spines['top'].set_visible(False)\n",
    "    \n",
    "#---------------------------------------------------------------\n",
    "\n",
    "def setup_legends(colors_dict, plt):\n",
    "    labels = list(colors_dict.keys())\n",
    "    handles = [plt.Rectangle((0,0),1,1, color=colors_dict[label]) for label in labels]\n",
    "    plt.subplot(1, 3, 2)\n",
    "    plt_settings(plt,'')\n",
    "    plt.gca().get_xaxis().set_visible(False)  \n",
    "    plt.legend(handles, labels);   \n",
    "    \n",
    "    \n",
    "    "
   ]
  },
  {
   "cell_type": "markdown",
   "metadata": {},
   "source": [
    "## Loading the data"
   ]
  },
  {
   "cell_type": "code",
   "execution_count": 5,
   "metadata": {},
   "outputs": [],
   "source": [
    "raw_data_train = pd.read_csv(train_data_path)\n",
    "\n",
    "train_data = raw_data_train.copy()"
   ]
  },
  {
   "cell_type": "markdown",
   "metadata": {},
   "source": [
    "# Exploring Source Variables"
   ]
  },
  {
   "cell_type": "markdown",
   "metadata": {},
   "source": [
    "### full row duplicates"
   ]
  },
  {
   "cell_type": "code",
   "execution_count": 6,
   "metadata": {},
   "outputs": [
    {
     "name": "stdout",
     "output_type": "stream",
     "text": [
      "The data has  0 Full Row Duplications\n"
     ]
    }
   ],
   "source": [
    "cnt_full_row_dup = sum(train_data.duplicated())\n",
    "print(\"The data has \",cnt_full_row_dup, 'Full Row Duplications')"
   ]
  },
  {
   "cell_type": "markdown",
   "metadata": {},
   "source": [
    "### shape of data"
   ]
  },
  {
   "cell_type": "code",
   "execution_count": 7,
   "metadata": {},
   "outputs": [
    {
     "name": "stdout",
     "output_type": "stream",
     "text": [
      "The data has  891  records and  11  columns\n"
     ]
    }
   ],
   "source": [
    "shape = train_data.shape \n",
    "m = shape[0]\n",
    "n = shape[1] - 1 #n-1 because one of the columns is the desired label\n",
    "df_shape_ratio = m/n\n",
    "print(\"The data has \", m, ' records and ', n, ' columns')"
   ]
  },
  {
   "cell_type": "markdown",
   "metadata": {},
   "source": [
    "### nulls in data"
   ]
  },
  {
   "cell_type": "code",
   "execution_count": 8,
   "metadata": {},
   "outputs": [
    {
     "data": {
      "text/html": [
       "<div>\n",
       "<style scoped>\n",
       "    .dataframe tbody tr th:only-of-type {\n",
       "        vertical-align: middle;\n",
       "    }\n",
       "\n",
       "    .dataframe tbody tr th {\n",
       "        vertical-align: top;\n",
       "    }\n",
       "\n",
       "    .dataframe thead th {\n",
       "        text-align: right;\n",
       "    }\n",
       "</style>\n",
       "<table border=\"1\" class=\"dataframe\">\n",
       "  <thead>\n",
       "    <tr style=\"text-align: right;\">\n",
       "      <th></th>\n",
       "      <th>#nulls</th>\n",
       "      <th>%nulls</th>\n",
       "    </tr>\n",
       "  </thead>\n",
       "  <tbody>\n",
       "    <tr>\n",
       "      <th>Cabin</th>\n",
       "      <td>687</td>\n",
       "      <td>77.104377</td>\n",
       "    </tr>\n",
       "    <tr>\n",
       "      <th>Age</th>\n",
       "      <td>177</td>\n",
       "      <td>19.865320</td>\n",
       "    </tr>\n",
       "    <tr>\n",
       "      <th>Embarked</th>\n",
       "      <td>2</td>\n",
       "      <td>0.224467</td>\n",
       "    </tr>\n",
       "    <tr>\n",
       "      <th>Fare</th>\n",
       "      <td>0</td>\n",
       "      <td>0.000000</td>\n",
       "    </tr>\n",
       "    <tr>\n",
       "      <th>Ticket</th>\n",
       "      <td>0</td>\n",
       "      <td>0.000000</td>\n",
       "    </tr>\n",
       "    <tr>\n",
       "      <th>Parch</th>\n",
       "      <td>0</td>\n",
       "      <td>0.000000</td>\n",
       "    </tr>\n",
       "    <tr>\n",
       "      <th>SibSp</th>\n",
       "      <td>0</td>\n",
       "      <td>0.000000</td>\n",
       "    </tr>\n",
       "    <tr>\n",
       "      <th>Sex</th>\n",
       "      <td>0</td>\n",
       "      <td>0.000000</td>\n",
       "    </tr>\n",
       "    <tr>\n",
       "      <th>Name</th>\n",
       "      <td>0</td>\n",
       "      <td>0.000000</td>\n",
       "    </tr>\n",
       "    <tr>\n",
       "      <th>Pclass</th>\n",
       "      <td>0</td>\n",
       "      <td>0.000000</td>\n",
       "    </tr>\n",
       "    <tr>\n",
       "      <th>Survived</th>\n",
       "      <td>0</td>\n",
       "      <td>0.000000</td>\n",
       "    </tr>\n",
       "    <tr>\n",
       "      <th>PassengerId</th>\n",
       "      <td>0</td>\n",
       "      <td>0.000000</td>\n",
       "    </tr>\n",
       "  </tbody>\n",
       "</table>\n",
       "</div>"
      ],
      "text/plain": [
       "             #nulls     %nulls\n",
       "Cabin           687  77.104377\n",
       "Age             177  19.865320\n",
       "Embarked          2   0.224467\n",
       "Fare              0   0.000000\n",
       "Ticket            0   0.000000\n",
       "Parch             0   0.000000\n",
       "SibSp             0   0.000000\n",
       "Sex               0   0.000000\n",
       "Name              0   0.000000\n",
       "Pclass            0   0.000000\n",
       "Survived          0   0.000000\n",
       "PassengerId       0   0.000000"
      ]
     },
     "execution_count": 8,
     "metadata": {},
     "output_type": "execute_result"
    }
   ],
   "source": [
    "nulls_df = pd.DataFrame((train_data.isnull().sum()).sort_values(ascending=False), columns={'#nulls'})\n",
    "nulls_df['%nulls'] = (nulls_df['#nulls']/m*100)\n",
    "nulls_df"
   ]
  },
  {
   "cell_type": "code",
   "execution_count": 9,
   "metadata": {},
   "outputs": [
    {
     "data": {
      "image/png": "[encoded data removed]",
      "text/plain": [
       "<Figure size 432x288 with 1 Axes>"
      ]
     },
     "metadata": {
      "needs_background": "light"
     },
     "output_type": "display_data"
    }
   ],
   "source": [
    "plt.figure()\n",
    "plt.barh(nulls_df.index, width=nulls_df['#nulls'])\n",
    "remove_top_right_spines(plt)\n",
    "plt.title('Count of Nulls per Column');\n",
    "plt.ylabel('Column')\n",
    "plt.xlabel('# Nulls');"
   ]
  },
  {
   "cell_type": "markdown",
   "metadata": {},
   "source": [
    "### uniqueness of data"
   ]
  },
  {
   "cell_type": "code",
   "execution_count": 16,
   "metadata": {},
   "outputs": [
    {
     "data": {
      "text/html": [
       "<div>\n",
       "<style scoped>\n",
       "    .dataframe tbody tr th:only-of-type {\n",
       "        vertical-align: middle;\n",
       "    }\n",
       "\n",
       "    .dataframe tbody tr th {\n",
       "        vertical-align: top;\n",
       "    }\n",
       "\n",
       "    .dataframe thead th {\n",
       "        text-align: right;\n",
       "    }\n",
       "</style>\n",
       "<table border=\"1\" class=\"dataframe\">\n",
       "  <thead>\n",
       "    <tr style=\"text-align: right;\">\n",
       "      <th></th>\n",
       "      <th>#unique</th>\n",
       "      <th>%unique</th>\n",
       "      <th>unique_identifier_flag</th>\n",
       "    </tr>\n",
       "  </thead>\n",
       "  <tbody>\n",
       "    <tr>\n",
       "      <th>Name</th>\n",
       "      <td>891</td>\n",
       "      <td>100.00</td>\n",
       "      <td>Y</td>\n",
       "    </tr>\n",
       "    <tr>\n",
       "      <th>PassengerId</th>\n",
       "      <td>891</td>\n",
       "      <td>100.00</td>\n",
       "      <td>Y</td>\n",
       "    </tr>\n",
       "    <tr>\n",
       "      <th>Ticket</th>\n",
       "      <td>681</td>\n",
       "      <td>76.43</td>\n",
       "      <td>N</td>\n",
       "    </tr>\n",
       "    <tr>\n",
       "      <th>Fare</th>\n",
       "      <td>248</td>\n",
       "      <td>27.83</td>\n",
       "      <td>N</td>\n",
       "    </tr>\n",
       "    <tr>\n",
       "      <th>Cabin</th>\n",
       "      <td>147</td>\n",
       "      <td>16.50</td>\n",
       "      <td>N</td>\n",
       "    </tr>\n",
       "    <tr>\n",
       "      <th>Age</th>\n",
       "      <td>88</td>\n",
       "      <td>9.88</td>\n",
       "      <td>N</td>\n",
       "    </tr>\n",
       "    <tr>\n",
       "      <th>Parch</th>\n",
       "      <td>7</td>\n",
       "      <td>0.79</td>\n",
       "      <td>N</td>\n",
       "    </tr>\n",
       "    <tr>\n",
       "      <th>SibSp</th>\n",
       "      <td>7</td>\n",
       "      <td>0.79</td>\n",
       "      <td>N</td>\n",
       "    </tr>\n",
       "    <tr>\n",
       "      <th>Embarked</th>\n",
       "      <td>3</td>\n",
       "      <td>0.34</td>\n",
       "      <td>N</td>\n",
       "    </tr>\n",
       "    <tr>\n",
       "      <th>Pclass</th>\n",
       "      <td>3</td>\n",
       "      <td>0.34</td>\n",
       "      <td>N</td>\n",
       "    </tr>\n",
       "    <tr>\n",
       "      <th>Sex</th>\n",
       "      <td>2</td>\n",
       "      <td>0.22</td>\n",
       "      <td>N</td>\n",
       "    </tr>\n",
       "    <tr>\n",
       "      <th>Survived</th>\n",
       "      <td>2</td>\n",
       "      <td>0.22</td>\n",
       "      <td>N</td>\n",
       "    </tr>\n",
       "  </tbody>\n",
       "</table>\n",
       "</div>"
      ],
      "text/plain": [
       "             #unique  %unique unique_identifier_flag\n",
       "Name             891   100.00                      Y\n",
       "PassengerId      891   100.00                      Y\n",
       "Ticket           681    76.43                      N\n",
       "Fare             248    27.83                      N\n",
       "Cabin            147    16.50                      N\n",
       "Age               88     9.88                      N\n",
       "Parch              7     0.79                      N\n",
       "SibSp              7     0.79                      N\n",
       "Embarked           3     0.34                      N\n",
       "Pclass             3     0.34                      N\n",
       "Sex                2     0.22                      N\n",
       "Survived           2     0.22                      N"
      ]
     },
     "execution_count": 16,
     "metadata": {},
     "output_type": "execute_result"
    }
   ],
   "source": [
    "uniques_df = unique_identifiers(train_data)\n",
    "uniques_df"
   ]
  },
  {
   "cell_type": "code",
   "execution_count": 17,
   "metadata": {},
   "outputs": [
    {
     "name": "stdout",
     "output_type": "stream",
     "text": [
      "The columns that can be used to uniquely identify records are: Name , PassengerId \n"
     ]
    }
   ],
   "source": [
    "unique_identifiers= list(uniques_df[uniques_df['unique_identifier_flag']=='Y'].index)\n",
    "print('The columns that can be used to uniquely identify records are: {} , {} '.format(unique_identifiers[0],unique_identifiers[1]))"
   ]
  },
  {
   "cell_type": "markdown",
   "metadata": {},
   "source": [
    "## Label Identification"
   ]
  },
  {
   "cell_type": "code",
   "execution_count": 291,
   "metadata": {},
   "outputs": [],
   "source": [
    "lable = ['Survived']\n",
    "\n",
    "non_lable = train_data.columns[~train_data.columns.isin(lable)]"
   ]
  },
  {
   "cell_type": "markdown",
   "metadata": {},
   "source": [
    "## Fix columns data types\n",
    "some columns are numerical when they should be str or categorical"
   ]
  },
  {
   "cell_type": "code",
   "execution_count": 25,
   "metadata": {},
   "outputs": [],
   "source": [
    "train_data['Pclass'] = train_data['Pclass'].astype('str')\n",
    "train_data['Survived'] = train_data['Survived'].astype('str')"
   ]
  },
  {
   "cell_type": "markdown",
   "metadata": {},
   "source": [
    "## Describe"
   ]
  },
  {
   "cell_type": "code",
   "execution_count": 63,
   "metadata": {},
   "outputs": [
    {
     "data": {
      "text/html": [
       "<div>\n",
       "<style scoped>\n",
       "    .dataframe tbody tr th:only-of-type {\n",
       "        vertical-align: middle;\n",
       "    }\n",
       "\n",
       "    .dataframe tbody tr th {\n",
       "        vertical-align: top;\n",
       "    }\n",
       "\n",
       "    .dataframe thead th {\n",
       "        text-align: right;\n",
       "    }\n",
       "</style>\n",
       "<table border=\"1\" class=\"dataframe\">\n",
       "  <thead>\n",
       "    <tr style=\"text-align: right;\">\n",
       "      <th></th>\n",
       "      <th>PassengerId</th>\n",
       "      <th>Age</th>\n",
       "      <th>SibSp</th>\n",
       "      <th>Parch</th>\n",
       "      <th>Fare</th>\n",
       "    </tr>\n",
       "  </thead>\n",
       "  <tbody>\n",
       "    <tr>\n",
       "      <th>count</th>\n",
       "      <td>891.000000</td>\n",
       "      <td>714.000000</td>\n",
       "      <td>891.000000</td>\n",
       "      <td>891.000000</td>\n",
       "      <td>891.000000</td>\n",
       "    </tr>\n",
       "    <tr>\n",
       "      <th>mean</th>\n",
       "      <td>446.000000</td>\n",
       "      <td>29.699118</td>\n",
       "      <td>0.523008</td>\n",
       "      <td>0.381594</td>\n",
       "      <td>32.204208</td>\n",
       "    </tr>\n",
       "    <tr>\n",
       "      <th>std</th>\n",
       "      <td>257.353842</td>\n",
       "      <td>14.526497</td>\n",
       "      <td>1.102743</td>\n",
       "      <td>0.806057</td>\n",
       "      <td>49.693429</td>\n",
       "    </tr>\n",
       "    <tr>\n",
       "      <th>min</th>\n",
       "      <td>1.000000</td>\n",
       "      <td>0.420000</td>\n",
       "      <td>0.000000</td>\n",
       "      <td>0.000000</td>\n",
       "      <td>0.000000</td>\n",
       "    </tr>\n",
       "    <tr>\n",
       "      <th>25%</th>\n",
       "      <td>223.500000</td>\n",
       "      <td>20.125000</td>\n",
       "      <td>0.000000</td>\n",
       "      <td>0.000000</td>\n",
       "      <td>7.910400</td>\n",
       "    </tr>\n",
       "    <tr>\n",
       "      <th>50%</th>\n",
       "      <td>446.000000</td>\n",
       "      <td>28.000000</td>\n",
       "      <td>0.000000</td>\n",
       "      <td>0.000000</td>\n",
       "      <td>14.454200</td>\n",
       "    </tr>\n",
       "    <tr>\n",
       "      <th>75%</th>\n",
       "      <td>668.500000</td>\n",
       "      <td>38.000000</td>\n",
       "      <td>1.000000</td>\n",
       "      <td>0.000000</td>\n",
       "      <td>31.000000</td>\n",
       "    </tr>\n",
       "    <tr>\n",
       "      <th>max</th>\n",
       "      <td>891.000000</td>\n",
       "      <td>80.000000</td>\n",
       "      <td>8.000000</td>\n",
       "      <td>6.000000</td>\n",
       "      <td>512.329200</td>\n",
       "    </tr>\n",
       "    <tr>\n",
       "      <th>IQR</th>\n",
       "      <td>445.000000</td>\n",
       "      <td>17.875000</td>\n",
       "      <td>1.000000</td>\n",
       "      <td>0.000000</td>\n",
       "      <td>23.089600</td>\n",
       "    </tr>\n",
       "    <tr>\n",
       "      <th>min_IQR_thresh</th>\n",
       "      <td>-444.000000</td>\n",
       "      <td>-6.687500</td>\n",
       "      <td>-1.500000</td>\n",
       "      <td>0.000000</td>\n",
       "      <td>-26.724000</td>\n",
       "    </tr>\n",
       "    <tr>\n",
       "      <th>max_IQR_thresh</th>\n",
       "      <td>1336.000000</td>\n",
       "      <td>64.812500</td>\n",
       "      <td>2.500000</td>\n",
       "      <td>0.000000</td>\n",
       "      <td>65.634400</td>\n",
       "    </tr>\n",
       "  </tbody>\n",
       "</table>\n",
       "</div>"
      ],
      "text/plain": [
       "                PassengerId         Age       SibSp       Parch        Fare\n",
       "count            891.000000  714.000000  891.000000  891.000000  891.000000\n",
       "mean             446.000000   29.699118    0.523008    0.381594   32.204208\n",
       "std              257.353842   14.526497    1.102743    0.806057   49.693429\n",
       "min                1.000000    0.420000    0.000000    0.000000    0.000000\n",
       "25%              223.500000   20.125000    0.000000    0.000000    7.910400\n",
       "50%              446.000000   28.000000    0.000000    0.000000   14.454200\n",
       "75%              668.500000   38.000000    1.000000    0.000000   31.000000\n",
       "max              891.000000   80.000000    8.000000    6.000000  512.329200\n",
       "IQR              445.000000   17.875000    1.000000    0.000000   23.089600\n",
       "min_IQR_thresh  -444.000000   -6.687500   -1.500000    0.000000  -26.724000\n",
       "max_IQR_thresh  1336.000000   64.812500    2.500000    0.000000   65.634400"
      ]
     },
     "execution_count": 63,
     "metadata": {},
     "output_type": "execute_result"
    }
   ],
   "source": [
    "desc_df = describe_IQR(train_data)\n",
    "desc_df"
   ]
  },
  {
   "cell_type": "code",
   "execution_count": 297,
   "metadata": {},
   "outputs": [
    {
     "data": {
      "text/html": [
       "<div>\n",
       "<style scoped>\n",
       "    .dataframe tbody tr th:only-of-type {\n",
       "        vertical-align: middle;\n",
       "    }\n",
       "\n",
       "    .dataframe tbody tr th {\n",
       "        vertical-align: top;\n",
       "    }\n",
       "\n",
       "    .dataframe thead th {\n",
       "        text-align: right;\n",
       "    }\n",
       "</style>\n",
       "<table border=\"1\" class=\"dataframe\">\n",
       "  <thead>\n",
       "    <tr style=\"text-align: right;\">\n",
       "      <th></th>\n",
       "      <th>Type</th>\n",
       "      <th>Density</th>\n",
       "      <th>No. of Values</th>\n",
       "      <th>No. of Unique Values</th>\n",
       "      <th>No. of NaN</th>\n",
       "      <th>No. of Zeros</th>\n",
       "      <th>No. of +ve Values</th>\n",
       "      <th>Min</th>\n",
       "      <th>Max</th>\n",
       "      <th>Mean</th>\n",
       "      <th>Std</th>\n",
       "      <th>Median</th>\n",
       "      <th>Mode</th>\n",
       "      <th>Skew</th>\n",
       "      <th>Kurtosis</th>\n",
       "      <th>No. of 3 Sigma Outliers</th>\n",
       "    </tr>\n",
       "  </thead>\n",
       "  <tbody>\n",
       "    <tr>\n",
       "      <th>PassengerId</th>\n",
       "      <td>int64</td>\n",
       "      <td>NaN</td>\n",
       "      <td>891</td>\n",
       "      <td>891</td>\n",
       "      <td>0</td>\n",
       "      <td>0</td>\n",
       "      <td>891</td>\n",
       "      <td>1.00</td>\n",
       "      <td>891.0000</td>\n",
       "      <td>446.000000</td>\n",
       "      <td>257.353842</td>\n",
       "      <td>446.0000</td>\n",
       "      <td>NaN</td>\n",
       "      <td>0.000000</td>\n",
       "      <td>-1.200000</td>\n",
       "      <td>0</td>\n",
       "    </tr>\n",
       "    <tr>\n",
       "      <th>Age</th>\n",
       "      <td>float64</td>\n",
       "      <td>NaN</td>\n",
       "      <td>714</td>\n",
       "      <td>89</td>\n",
       "      <td>177</td>\n",
       "      <td>0</td>\n",
       "      <td>714</td>\n",
       "      <td>0.42</td>\n",
       "      <td>80.0000</td>\n",
       "      <td>29.699118</td>\n",
       "      <td>14.526497</td>\n",
       "      <td>NaN</td>\n",
       "      <td>24.00</td>\n",
       "      <td>0.389108</td>\n",
       "      <td>0.178274</td>\n",
       "      <td>2</td>\n",
       "    </tr>\n",
       "    <tr>\n",
       "      <th>SibSp</th>\n",
       "      <td>int64</td>\n",
       "      <td>NaN</td>\n",
       "      <td>891</td>\n",
       "      <td>7</td>\n",
       "      <td>0</td>\n",
       "      <td>608</td>\n",
       "      <td>283</td>\n",
       "      <td>0.00</td>\n",
       "      <td>8.0000</td>\n",
       "      <td>0.523008</td>\n",
       "      <td>1.102743</td>\n",
       "      <td>0.0000</td>\n",
       "      <td>0.00</td>\n",
       "      <td>3.695352</td>\n",
       "      <td>17.880420</td>\n",
       "      <td>30</td>\n",
       "    </tr>\n",
       "    <tr>\n",
       "      <th>Parch</th>\n",
       "      <td>int64</td>\n",
       "      <td>NaN</td>\n",
       "      <td>891</td>\n",
       "      <td>7</td>\n",
       "      <td>0</td>\n",
       "      <td>678</td>\n",
       "      <td>213</td>\n",
       "      <td>0.00</td>\n",
       "      <td>6.0000</td>\n",
       "      <td>0.381594</td>\n",
       "      <td>0.806057</td>\n",
       "      <td>0.0000</td>\n",
       "      <td>0.00</td>\n",
       "      <td>2.749117</td>\n",
       "      <td>9.778125</td>\n",
       "      <td>15</td>\n",
       "    </tr>\n",
       "    <tr>\n",
       "      <th>Fare</th>\n",
       "      <td>float64</td>\n",
       "      <td>NaN</td>\n",
       "      <td>891</td>\n",
       "      <td>248</td>\n",
       "      <td>0</td>\n",
       "      <td>15</td>\n",
       "      <td>876</td>\n",
       "      <td>0.00</td>\n",
       "      <td>512.3292</td>\n",
       "      <td>32.204208</td>\n",
       "      <td>49.693429</td>\n",
       "      <td>14.4542</td>\n",
       "      <td>8.05</td>\n",
       "      <td>4.787317</td>\n",
       "      <td>33.398141</td>\n",
       "      <td>20</td>\n",
       "    </tr>\n",
       "  </tbody>\n",
       "</table>\n",
       "</div>"
      ],
      "text/plain": [
       "                Type  Density  No. of Values  No. of Unique Values  \\\n",
       "PassengerId    int64      NaN            891                   891   \n",
       "Age          float64      NaN            714                    89   \n",
       "SibSp          int64      NaN            891                     7   \n",
       "Parch          int64      NaN            891                     7   \n",
       "Fare         float64      NaN            891                   248   \n",
       "\n",
       "             No. of NaN  No. of Zeros  No. of +ve Values   Min       Max  \\\n",
       "PassengerId           0             0                891  1.00  891.0000   \n",
       "Age                 177             0                714  0.42   80.0000   \n",
       "SibSp                 0           608                283  0.00    8.0000   \n",
       "Parch                 0           678                213  0.00    6.0000   \n",
       "Fare                  0            15                876  0.00  512.3292   \n",
       "\n",
       "                   Mean         Std    Median   Mode      Skew   Kurtosis  \\\n",
       "PassengerId  446.000000  257.353842  446.0000    NaN  0.000000  -1.200000   \n",
       "Age           29.699118   14.526497       NaN  24.00  0.389108   0.178274   \n",
       "SibSp          0.523008    1.102743    0.0000   0.00  3.695352  17.880420   \n",
       "Parch          0.381594    0.806057    0.0000   0.00  2.749117   9.778125   \n",
       "Fare          32.204208   49.693429   14.4542   8.05  4.787317  33.398141   \n",
       "\n",
       "             No. of 3 Sigma Outliers  \n",
       "PassengerId                        0  \n",
       "Age                                2  \n",
       "SibSp                             30  \n",
       "Parch                             15  \n",
       "Fare                              20  "
      ]
     },
     "execution_count": 297,
     "metadata": {},
     "output_type": "execute_result"
    }
   ],
   "source": [
    "numeric_desc_df = desc(train_data)[0]  \n",
    "numeric_desc_df"
   ]
  },
  {
   "cell_type": "code",
   "execution_count": 292,
   "metadata": {},
   "outputs": [
    {
     "data": {
      "text/html": [
       "<div>\n",
       "<style scoped>\n",
       "    .dataframe tbody tr th:only-of-type {\n",
       "        vertical-align: middle;\n",
       "    }\n",
       "\n",
       "    .dataframe tbody tr th {\n",
       "        vertical-align: top;\n",
       "    }\n",
       "\n",
       "    .dataframe thead th {\n",
       "        text-align: right;\n",
       "    }\n",
       "</style>\n",
       "<table border=\"1\" class=\"dataframe\">\n",
       "  <thead>\n",
       "    <tr style=\"text-align: right;\">\n",
       "      <th></th>\n",
       "      <th>Type</th>\n",
       "      <th>Density</th>\n",
       "      <th>No. of Values</th>\n",
       "      <th>No. of Unique Values</th>\n",
       "      <th>No. of NaN</th>\n",
       "    </tr>\n",
       "  </thead>\n",
       "  <tbody>\n",
       "    <tr>\n",
       "      <th>Survived</th>\n",
       "      <td>object</td>\n",
       "      <td>NaN</td>\n",
       "      <td>891</td>\n",
       "      <td>2</td>\n",
       "      <td>0</td>\n",
       "    </tr>\n",
       "    <tr>\n",
       "      <th>Pclass</th>\n",
       "      <td>object</td>\n",
       "      <td>NaN</td>\n",
       "      <td>891</td>\n",
       "      <td>3</td>\n",
       "      <td>0</td>\n",
       "    </tr>\n",
       "    <tr>\n",
       "      <th>Name</th>\n",
       "      <td>object</td>\n",
       "      <td>NaN</td>\n",
       "      <td>891</td>\n",
       "      <td>891</td>\n",
       "      <td>0</td>\n",
       "    </tr>\n",
       "    <tr>\n",
       "      <th>Sex</th>\n",
       "      <td>object</td>\n",
       "      <td>NaN</td>\n",
       "      <td>891</td>\n",
       "      <td>2</td>\n",
       "      <td>0</td>\n",
       "    </tr>\n",
       "    <tr>\n",
       "      <th>Ticket</th>\n",
       "      <td>object</td>\n",
       "      <td>NaN</td>\n",
       "      <td>891</td>\n",
       "      <td>681</td>\n",
       "      <td>0</td>\n",
       "    </tr>\n",
       "    <tr>\n",
       "      <th>Cabin</th>\n",
       "      <td>object</td>\n",
       "      <td>NaN</td>\n",
       "      <td>204</td>\n",
       "      <td>148</td>\n",
       "      <td>687</td>\n",
       "    </tr>\n",
       "    <tr>\n",
       "      <th>Embarked</th>\n",
       "      <td>object</td>\n",
       "      <td>NaN</td>\n",
       "      <td>889</td>\n",
       "      <td>4</td>\n",
       "      <td>2</td>\n",
       "    </tr>\n",
       "  </tbody>\n",
       "</table>\n",
       "</div>"
      ],
      "text/plain": [
       "            Type  Density  No. of Values  No. of Unique Values  No. of NaN\n",
       "Survived  object      NaN            891                     2           0\n",
       "Pclass    object      NaN            891                     3           0\n",
       "Name      object      NaN            891                   891           0\n",
       "Sex       object      NaN            891                     2           0\n",
       "Ticket    object      NaN            891                   681           0\n",
       "Cabin     object      NaN            204                   148         687\n",
       "Embarked  object      NaN            889                     4           2"
      ]
     },
     "execution_count": 292,
     "metadata": {},
     "output_type": "execute_result"
    }
   ],
   "source": [
    "cat_desc_df = desc(train_data)[1]  \n",
    "cat_desc_df"
   ]
  },
  {
   "cell_type": "markdown",
   "metadata": {},
   "source": [
    "## IQR Outliers"
   ]
  },
  {
   "cell_type": "code",
   "execution_count": 90,
   "metadata": {},
   "outputs": [
    {
     "data": {
      "text/html": [
       "<div>\n",
       "<style scoped>\n",
       "    .dataframe tbody tr th:only-of-type {\n",
       "        vertical-align: middle;\n",
       "    }\n",
       "\n",
       "    .dataframe tbody tr th {\n",
       "        vertical-align: top;\n",
       "    }\n",
       "\n",
       "    .dataframe thead th {\n",
       "        text-align: right;\n",
       "    }\n",
       "</style>\n",
       "<table border=\"1\" class=\"dataframe\">\n",
       "  <thead>\n",
       "    <tr style=\"text-align: right;\">\n",
       "      <th></th>\n",
       "      <th>#Outliers</th>\n",
       "      <th>%Outliers</th>\n",
       "    </tr>\n",
       "  </thead>\n",
       "  <tbody>\n",
       "    <tr>\n",
       "      <th>Age</th>\n",
       "      <td>11</td>\n",
       "      <td>1.23</td>\n",
       "    </tr>\n",
       "    <tr>\n",
       "      <th>Cabin</th>\n",
       "      <td>0</td>\n",
       "      <td>0.00</td>\n",
       "    </tr>\n",
       "    <tr>\n",
       "      <th>Embarked</th>\n",
       "      <td>0</td>\n",
       "      <td>0.00</td>\n",
       "    </tr>\n",
       "    <tr>\n",
       "      <th>Fare</th>\n",
       "      <td>116</td>\n",
       "      <td>13.02</td>\n",
       "    </tr>\n",
       "    <tr>\n",
       "      <th>Name</th>\n",
       "      <td>0</td>\n",
       "      <td>0.00</td>\n",
       "    </tr>\n",
       "    <tr>\n",
       "      <th>Parch</th>\n",
       "      <td>213</td>\n",
       "      <td>23.91</td>\n",
       "    </tr>\n",
       "    <tr>\n",
       "      <th>PassengerId</th>\n",
       "      <td>0</td>\n",
       "      <td>0.00</td>\n",
       "    </tr>\n",
       "    <tr>\n",
       "      <th>Pclass</th>\n",
       "      <td>0</td>\n",
       "      <td>0.00</td>\n",
       "    </tr>\n",
       "    <tr>\n",
       "      <th>Sex</th>\n",
       "      <td>0</td>\n",
       "      <td>0.00</td>\n",
       "    </tr>\n",
       "    <tr>\n",
       "      <th>SibSp</th>\n",
       "      <td>46</td>\n",
       "      <td>5.16</td>\n",
       "    </tr>\n",
       "    <tr>\n",
       "      <th>Survived</th>\n",
       "      <td>0</td>\n",
       "      <td>0.00</td>\n",
       "    </tr>\n",
       "    <tr>\n",
       "      <th>Ticket</th>\n",
       "      <td>0</td>\n",
       "      <td>0.00</td>\n",
       "    </tr>\n",
       "  </tbody>\n",
       "</table>\n",
       "</div>"
      ],
      "text/plain": [
       "             #Outliers  %Outliers\n",
       "Age                 11       1.23\n",
       "Cabin                0       0.00\n",
       "Embarked             0       0.00\n",
       "Fare               116      13.02\n",
       "Name                 0       0.00\n",
       "Parch              213      23.91\n",
       "PassengerId          0       0.00\n",
       "Pclass               0       0.00\n",
       "Sex                  0       0.00\n",
       "SibSp               46       5.16\n",
       "Survived             0       0.00\n",
       "Ticket               0       0.00"
      ]
     },
     "execution_count": 90,
     "metadata": {},
     "output_type": "execute_result"
    }
   ],
   "source": [
    "IQR_outliers_df = pd.DataFrame((train_data<desc_df.loc['min_IQR_thresh']).sum() + (train_data>desc_df.loc['max_IQR_thresh']).sum(), columns={'#Outliers'} )\n",
    "IQR_outliers_df['%Outliers'] = round((outliers_df['#Outliers']/m*100),2)\n",
    "IQR_outliers_df"
   ]
  },
  {
   "cell_type": "markdown",
   "metadata": {},
   "source": [
    "# Data Variables Vs Survival"
   ]
  },
  {
   "cell_type": "markdown",
   "metadata": {},
   "source": [
    "## What is the relation between Gender and Survival?"
   ]
  },
  {
   "cell_type": "code",
   "execution_count": 229,
   "metadata": {},
   "outputs": [
    {
     "data": {
      "image/png": "[encoded data removed]",
      "text/plain": [
       "<Figure size 432x288 with 2 Axes>"
      ]
     },
     "metadata": {
      "needs_background": "light"
     },
     "output_type": "display_data"
    }
   ],
   "source": [
    "unique_sexes,sex_value_count, avg_survival,colors_map = variable_mean_survival('Sex')\n",
    "fig = plt.figure()\n",
    "\n",
    "plt.subplot(1, 3, 1)\n",
    "plt.bar(unique_sexes,sex_value_count,color=colors_map)\n",
    "plt_settings(plt,'Count Passengers per Gender\\n')\n",
    "plt.xlabel('Gender')\n",
    "plt.ylabel('Number of Passengers')\n",
    "\n",
    "plt.subplot(1, 3, 3)\n",
    "plt.bar(unique_sexes,avg_survival,color=colors_map)\n",
    "plt_settings(plt,'Average Survival Rate per Gender\\n')\n",
    "plt.xlabel('Gender')\n",
    "plt.ylabel('Survival Rate');"
   ]
  },
  {
   "cell_type": "markdown",
   "metadata": {},
   "source": [
    "## What is the relation between Embaked and Survival? "
   ]
  },
  {
   "cell_type": "code",
   "execution_count": 230,
   "metadata": {},
   "outputs": [
    {
     "data": {
      "image/png": "[encoded data removed]",
      "text/plain": [
       "<Figure size 432x288 with 2 Axes>"
      ]
     },
     "metadata": {
      "needs_background": "light"
     },
     "output_type": "display_data"
    }
   ],
   "source": [
    "unique_embark,embark_value_count, avg_survival,colors_map = variable_mean_survival('Embarked')\n",
    "#unique_embark = ['Cherbourg','Queenstown', 'Southampton']\n",
    "plt.subplot(1, 3, 1)\n",
    "plt.bar(unique_embark,embark_value_count,color=colors_map)\n",
    "plt_settings(plt,'Count Passengers\\nper Embarkment Station\\n')\n",
    "plt.xticks(ticks=['C','Q','S'],labels= ['Cherbourg','Queenstown', 'Southampton'], rotation = 75);\n",
    "plt.xlabel('Station')\n",
    "plt.ylabel('Number of Passengers')\n",
    "\n",
    "plt.subplot(1, 3, 3)\n",
    "plt.bar(unique_embark,avg_survival,color=colors_map)\n",
    "plt_settings(plt,'Average Survival Rate\\n per Embarkment Station\\n')\n",
    "plt.xticks(ticks=['C','Q','S'],labels= ['Cherbourg','Queenstown', 'Southampton'], rotation = 75);\n",
    "plt.xlabel('Station')\n",
    "plt.ylabel('Survival Rate');"
   ]
  },
  {
   "cell_type": "markdown",
   "metadata": {},
   "source": [
    "### What is the nature of passengers who embarked from Cherbourg? (Pclass & Gender)"
   ]
  },
  {
   "cell_type": "code",
   "execution_count": 188,
   "metadata": {},
   "outputs": [
    {
     "name": "stdout",
     "output_type": "stream",
     "text": [
      "\u001b[1mPassengers from Cherbourg were predominantly First Class\n",
      " which explains why they have higher survival chances as we will see Later\u001b[1m\n"
     ]
    },
    {
     "data": {
      "image/png": "[encoded data removed]",
      "text/plain": [
       "<Figure size 432x288 with 2 Axes>"
      ]
     },
     "metadata": {
      "needs_background": "light"
     },
     "output_type": "display_data"
    }
   ],
   "source": [
    "c_df = train_data[train_data['Embarked'] == 'C'][['PassengerId','Sex', 'Pclass', 'Survived']]\n",
    "unique_sex,sex_value_count, avg_survival,colors_map = variable_mean_survival_subset(c_df,'Sex')\n",
    "\n",
    "plt.subplot(1, 3, 1)\n",
    "plt.bar(unique_sex,sex_value_count,color=colors_map)\n",
    "plt_settings(plt,'Count Cherbourg Passengers\\n per Gender\\n')\n",
    "plt.xlabel('Gender')\n",
    "plt.ylabel('Number of Passengers');\n",
    "\n",
    "unique_class,class_value_count, avg_survival,colors_map = variable_mean_survival_subset(c_df,'Pclass')\n",
    "plt.subplot(1, 3, 3)\n",
    "plt.bar(unique_class,class_value_count,color=colors_map)\n",
    "plt_settings(plt,'Count Cherbourg Passengers\\n per Class\\n')\n",
    "plt.xticks(ticks=['1','2','3'],labels= ['1st','2nd', '3rd']);\n",
    "plt.xlabel(\"Passengers' Class\")\n",
    "plt.ylabel('Number of Passengers');\n",
    "\n",
    "print('\\033[1m'+'Passengers from Cherbourg were predominantly First Class\\n which explains why they have higher survival chances as we will see Later'+'\\033[1m')"
   ]
  },
  {
   "cell_type": "markdown",
   "metadata": {},
   "source": [
    "## What is the relation between Passenger's Class and Survival?"
   ]
  },
  {
   "cell_type": "code",
   "execution_count": 187,
   "metadata": {},
   "outputs": [
    {
     "data": {
      "image/png": "[encoded data removed]",
      "text/plain": [
       "<Figure size 432x288 with 2 Axes>"
      ]
     },
     "metadata": {
      "needs_background": "light"
     },
     "output_type": "display_data"
    }
   ],
   "source": [
    "unique_class,class_value_count, avg_survival,colors_map = variable_mean_survival('Pclass')\n",
    "\n",
    "plt.subplot(1, 3, 1)\n",
    "plt.bar(unique_class,class_value_count,color=colors_map)\n",
    "plt_settings(plt,'Count Passengers per Class\\n')\n",
    "plt.xticks(ticks=['1','2','3'],labels= ['1st','2nd', '3rd']);\n",
    "plt.xlabel(\"Passengers' Class\")\n",
    "plt.ylabel('Number of Passengers')\n",
    "\n",
    "plt.subplot(1, 3, 3)\n",
    "plt.bar(unique_class,avg_survival,color=colors_map)\n",
    "plt_settings(plt,'Average Survival Rate per Class\\n')\n",
    "plt.xticks(ticks=['1','2','3'],labels= ['1st','2nd', '3rd']);\n",
    "plt.xlabel(\"Passengers' Class\")\n",
    "plt.ylabel('Survival Rate');"
   ]
  },
  {
   "cell_type": "markdown",
   "metadata": {},
   "source": [
    "## What is the relation between the Passenger's travel company and Survival?\n",
    "We will analyse siblings, spouses, children, and parents travelling with the passenger"
   ]
  },
  {
   "cell_type": "markdown",
   "metadata": {},
   "source": [
    "### Family Vs Survival\n",
    "Combine SibSp and Parch in one column indicating whether or not the passenger was travelling alone"
   ]
  },
  {
   "cell_type": "code",
   "execution_count": 167,
   "metadata": {},
   "outputs": [],
   "source": [
    "def family_flag(x):\n",
    "    if  (x['SibSp'] + x['Parch'])  > 0:\n",
    "        return 1\n",
    "    else:\n",
    "        return 0"
   ]
  },
  {
   "cell_type": "code",
   "execution_count": 168,
   "metadata": {},
   "outputs": [],
   "source": [
    "train_data['Family_flag']  = train_data.apply(family_flag, axis=1)"
   ]
  },
  {
   "cell_type": "code",
   "execution_count": 195,
   "metadata": {},
   "outputs": [
    {
     "data": {
      "image/png": "[encoded data removed]",
      "text/plain": [
       "<Figure size 432x288 with 2 Axes>"
      ]
     },
     "metadata": {
      "needs_background": "light"
     },
     "output_type": "display_data"
    }
   ],
   "source": [
    "unique_famFlag,famFlag_value_count, avg_survival,colors_map = variable_mean_survival('Family_flag')\n",
    "\n",
    "plt.subplot(1,3,1) \n",
    "plt.bar(list(map(str,unique_famFlag)), famFlag_value_count, color=colors_map)\n",
    "plt_settings(plt,'Count Passengers\\n per Family Flag \\n')\n",
    "plt.xticks(ticks=[0,1],labels=['Alone','With\\nFamily']);\n",
    "plt.xlabel(\"Family Flag\")\n",
    "plt.ylabel('Number of Passengers')\n",
    "\n",
    "plt.subplot(1, 3, 3)\n",
    "plt.bar(list(map(str,unique_famFlag)),avg_survival,color=colors_map)\n",
    "plt_settings(plt,'Average Survival Rate\\nper Family Flag\\n')\n",
    "plt.xticks(ticks=[0,1],labels=['Alone','With\\nFamily']);\n",
    "plt.xlabel(\"Family Flag\")\n",
    "plt.ylabel('Survival Rate');"
   ]
  },
  {
   "cell_type": "code",
   "execution_count": 172,
   "metadata": {},
   "outputs": [],
   "source": [
    "def family_flag2(x):\n",
    "    sum_all =  x['SibSp'] + x['Parch']\n",
    "    if sum_all == 0 :\n",
    "        return 0\n",
    "    elif sum_all < 4:\n",
    "        return 1\n",
    "    else:\n",
    "        return 2"
   ]
  },
  {
   "cell_type": "code",
   "execution_count": 174,
   "metadata": {},
   "outputs": [],
   "source": [
    "train_data['Family_flag2']  = train_data.apply(family_flag2, axis=1)"
   ]
  },
  {
   "cell_type": "code",
   "execution_count": 194,
   "metadata": {},
   "outputs": [
    {
     "data": {
      "image/png": "[encoded data removed]",
      "text/plain": [
       "<Figure size 432x288 with 2 Axes>"
      ]
     },
     "metadata": {
      "needs_background": "light"
     },
     "output_type": "display_data"
    }
   ],
   "source": [
    "unique_famFlag,famFlag_value_count, avg_survival,colors_map = variable_mean_survival('Family_flag2')\n",
    "\n",
    "plt.subplot(1,3,1) \n",
    "plt.bar(list(map(str,unique_famFlag)), famFlag_value_count, color=colors_map)\n",
    "plt_settings(plt,'Count Passengers\\n per Family Flag \\n')\n",
    "plt.xticks(ticks=[0,1,2],labels=['Alone','Small\\nFamily', 'Big\\nFamily'],  rotation = 45);\n",
    "plt.xlabel(\"Family Flag\")\n",
    "plt.ylabel('Number of Passengers')\n",
    "\n",
    "plt.subplot(1, 3, 3)\n",
    "plt.bar(list(map(str,unique_famFlag)),avg_survival,color=colors_map)\n",
    "plt_settings(plt,'Average Survival Rate\\nper Family Flag\\n')\n",
    "plt.xticks(ticks=[0,1,2],labels=['Alone','Small\\nFamily', 'Big\\nFamily'],  rotation = 45);\n",
    "plt.xlabel(\"Family Flag\")\n",
    "plt.ylabel('Survival Rate');"
   ]
  },
  {
   "cell_type": "markdown",
   "metadata": {},
   "source": [
    "## What is the relation between Passengers' Age and Survival?"
   ]
  },
  {
   "cell_type": "code",
   "execution_count": 21,
   "metadata": {},
   "outputs": [
    {
     "data": {
      "text/plain": [
       "<seaborn.axisgrid.FacetGrid at 0x241c784db50>"
      ]
     },
     "execution_count": 21,
     "metadata": {},
     "output_type": "execute_result"
    },
    {
     "data": {
      "image/png": "[encoded data removed]",
      "text/plain": [
       "<Figure size 432x216 with 2 Axes>"
      ]
     },
     "metadata": {
      "needs_background": "light"
     },
     "output_type": "display_data"
    }
   ],
   "source": [
    "g = sns.FacetGrid(train_data, col='Survived')\n",
    "g.map(plt.hist, 'Age', bins=60)"
   ]
  },
  {
   "cell_type": "markdown",
   "metadata": {},
   "source": [
    "### What is the relation between age group and survival?"
   ]
  },
  {
   "cell_type": "code",
   "execution_count": 239,
   "metadata": {},
   "outputs": [],
   "source": [
    "#sort the ages into age groups #explore more about binning!\n",
    "bins = [0, 2, 12, 17, 60, np.inf]\n",
    "labels = ['baby', 'child', 'teenager', 'adult', 'elderly']\n",
    "age_groups = pd.cut(train_data.Age, bins, labels = labels)\n",
    "train_data['Age_Group'] = age_groups"
   ]
  },
  {
   "cell_type": "code",
   "execution_count": 392,
   "metadata": {},
   "outputs": [
    {
     "data": {
      "image/png": "[encoded data removed]",
      "text/plain": [
       "<Figure size 432x288 with 2 Axes>"
      ]
     },
     "metadata": {
      "needs_background": "light"
     },
     "output_type": "display_data"
    }
   ],
   "source": [
    "unique_ageGroup,ageGroup_value_count, avg_survival,colors_map = variable_mean_survival('Age_Group')\n",
    "\n",
    "plt.subplot(1,2,1) \n",
    "plt.bar(unique_ageGroup, ageGroup_value_count, color='#1565e6') #'#0948ad'\n",
    "plt_settings(plt,'Count Passengers\\nper Age Group\\n')\n",
    "plt.xticks(rotation=45)\n",
    "\n",
    "plt.subplot(1, 2, 2)\n",
    "plt.bar(unique_ageGroup,avg_survival,color='#1565e6')\n",
    "plt_settings(plt,'Average Survival Rate\\nper Age Group\\n')\n",
    "plt.xticks(rotation=45);"
   ]
  },
  {
   "cell_type": "markdown",
   "metadata": {},
   "source": [
    "### What are the chances of survival of children with parents vs without parents?"
   ]
  },
  {
   "cell_type": "code",
   "execution_count": 347,
   "metadata": {},
   "outputs": [
    {
     "name": "stdout",
     "output_type": "stream",
     "text": [
      "\u001b[1mNo babies were travelling alone without parents\u001b[1m\n"
     ]
    },
    {
     "data": {
      "image/png": "[encoded data removed]",
      "text/plain": [
       "<Figure size 432x288 with 2 Axes>"
      ]
     },
     "metadata": {
      "needs_background": "light"
     },
     "output_type": "display_data"
    }
   ],
   "source": [
    "df = train_data[train_data['Age_Group'].isin(['baby','child'])]\n",
    "unique_vals = df['Age_Group'].unique()\n",
    "\n",
    "df['Survived'] = df['Survived'].astype(int)\n",
    "df_zeroParents = df[df['Parch']==0]\n",
    "df_withParents = df[df['Parch']>0]\n",
    "\n",
    "zeroParents_avg_survival = pd.DataFrame(df_zeroParents.set_index('Age_Group').groupby(level=0)['Survived'].mean(),index = unique_vals)['Survived']\n",
    "zeroParents_avg_survival = zeroParents_avg_survival.apply(lambda x: 0 if pd.isnull(x) else x)\n",
    "\n",
    "withParents_avg_survival = pd.DataFrame(df_withParents.set_index('Age_Group').groupby(level=0)['Survived'].mean(),index = unique_vals)['Survived']\n",
    "\n",
    "plt.subplot(1,3,1) \n",
    "plt.bar(unique_vals, withParents_avg_survival, color=['blue','orange'])\n",
    "plt_settings(plt,'Avg Survival Rate\\n For Children\\n With Parents\\n')\n",
    "plt.xlabel('Age Group')\n",
    "plt.ylabel('Average Survival')\n",
    "\n",
    "plt.subplot(1,3,3) \n",
    "plt.bar(unique_vals, zeroParents_avg_survival, color=['blue','orange'])\n",
    "plt_settings(plt,'Avg Survival Rate\\n For Children\\n Without Parents\\n')\n",
    "plt.xlabel('Age Group')\n",
    "plt.ylabel('Average Survival');\n",
    "\n",
    "print('\\033[1m'+'No babies were travelling alone without parents'+'\\033[1m')"
   ]
  },
  {
   "cell_type": "markdown",
   "metadata": {},
   "source": [
    "### What are the chances of survival of adults with childen vs without childen?"
   ]
  },
  {
   "cell_type": "code",
   "execution_count": 348,
   "metadata": {},
   "outputs": [
    {
     "data": {
      "image/png": "[encoded data removed]",
      "text/plain": [
       "<Figure size 432x288 with 1 Axes>"
      ]
     },
     "metadata": {
      "needs_background": "light"
     },
     "output_type": "display_data"
    }
   ],
   "source": [
    "df = train_data[train_data['Age_Group'].isin(['adult'])]\n",
    "unique_vals = df['Age_Group'].unique()\n",
    "\n",
    "df['Survived'] = df['Survived'].astype(int)\n",
    "df_zeroCh = df[df['Parch']==0]\n",
    "df_withCh = df[df['Parch']>0]\n",
    "\n",
    "zeroCh_avg_survival = pd.DataFrame(df_zeroCh.set_index('Age_Group').groupby(level=0)['Survived'].mean(),index = unique_vals)['Survived']\n",
    "\n",
    "withCh_avg_survival = pd.DataFrame(df_withCh.set_index('Age_Group').groupby(level=0)['Survived'].mean(),index = unique_vals)['Survived']\n",
    "\n",
    "labels = ['adults \\nwith children','adults\\n without children']\n",
    "avg_surv = [withCh_avg_survival.values[0],zeroCh_avg_survival.values[0]]\n",
    "plt.subplot(1,2,1) \n",
    "plt.bar(labels, avg_surv, color=['orange','blue'])\n",
    "plt_settings(plt,'Avg Survival Rate\\n For Adults\\n With/without Children\\n')\n",
    "plt.xlabel('Age Group')\n",
    "plt.ylabel('Average Survival');\n"
   ]
  },
  {
   "cell_type": "markdown",
   "metadata": {},
   "source": [
    "### What is the relationship between Age and Class?"
   ]
  },
  {
   "cell_type": "code",
   "execution_count": 567,
   "metadata": {},
   "outputs": [
    {
     "data": {
      "image/png": "[encoded data removed]",
      "text/plain": [
       "<Figure size 432x288 with 1 Axes>"
      ]
     },
     "metadata": {
      "needs_background": "light"
     },
     "output_type": "display_data"
    }
   ],
   "source": [
    "baby = train_data[train_data['Age_Group']=='baby']\n",
    "child = train_data[train_data['Age_Group']=='child']\n",
    "teenager = train_data[train_data['Age_Group']=='teenager']\n",
    "adults = train_data[train_data['Age_Group']=='adult']\n",
    "elderly = train_data[train_data['Age_Group']=='elderly']\n",
    "\n",
    "sns.boxplot(x='Pclass',y='Age',data=train_data.sort_values(by='Pclass'), palette='bright')\n",
    "\n",
    "plt_simple_settings(plt,'Age Distribution Per Class')\n",
    "plt.yticks();\n",
    "plt.xticks(ticks=[0,1,2], labels=['1st', '2nd','3rd']);"
   ]
  },
  {
   "cell_type": "markdown",
   "metadata": {},
   "source": [
    "## Cabin Vs Survival\n",
    "\n",
    "Following the idea that passengers of no cabin stated are of lower classes"
   ]
  },
  {
   "cell_type": "code",
   "execution_count": 423,
   "metadata": {},
   "outputs": [],
   "source": [
    "train_data['Cabin_Flag'] = train_data[\"Cabin\"].notnull().astype('int')"
   ]
  },
  {
   "cell_type": "code",
   "execution_count": 424,
   "metadata": {},
   "outputs": [
    {
     "data": {
      "image/png": "[encoded data removed]",
      "text/plain": [
       "<Figure size 432x288 with 2 Axes>"
      ]
     },
     "metadata": {
      "needs_background": "light"
     },
     "output_type": "display_data"
    }
   ],
   "source": [
    "unique_cabinFlag,cabinFlag_value_count, avg_survival,colors_map = variable_mean_survival('Cabin_Flag')\n",
    "\n",
    "plt.subplot(1,3,1) \n",
    "plt.bar(unique_cabinFlag, cabinFlag_value_count, color=colors_map)\n",
    "plt_settings(plt,'Count Passengers\\nper Cabin_Flag\\n')\n",
    "plt.xticks(ticks=[0,1],labels=['Unknown\\nCabin','Known\\nCabin'])\n",
    "\n",
    "plt.subplot(1, 3, 3)\n",
    "plt.bar(unique_cabinFlag,avg_survival,color=colors_map)\n",
    "plt_settings(plt,'Average Survival Rate\\nper Cabin_Flag\\n')\n",
    "plt.xticks(ticks=[0,1],labels=['Unknown\\nCabin','Known\\nCabin']);\n",
    " "
   ]
  },
  {
   "cell_type": "markdown",
   "metadata": {},
   "source": [
    "### What are the characteristics of passengers with known Vs unkown Cabins?"
   ]
  },
  {
   "cell_type": "markdown",
   "metadata": {},
   "source": [
    "### Passenger Class"
   ]
  },
  {
   "cell_type": "code",
   "execution_count": 510,
   "metadata": {},
   "outputs": [
    {
     "data": {
      "image/png": "[encoded data removed]",
      "text/plain": [
       "<Figure size 432x288 with 2 Axes>"
      ]
     },
     "metadata": {
      "needs_background": "light"
     },
     "output_type": "display_data"
    }
   ],
   "source": [
    "train_data['Survived'] = train_data['Survived'].astype(int)\n",
    "unique_vals = train_data['Cabin_Flag'].unique()\n",
    "\n",
    "known_cabins_df = train_data[train_data['Cabin_Flag']==1]\n",
    "unknown_cabins_df = train_data[train_data['Cabin_Flag']==0]\n",
    "\n",
    "plt.subplot(1,3,1)\n",
    "unique_class,class_value_count, avg_survival,colors_map = variable_mean_survival_subset(known_cabins_df,'Pclass')\n",
    "plt.bar(unique_class, class_value_count, color='orange')\n",
    "plt_settings(plt,'Count Passengers with \\nKnown Cabins\\nper Class\\n')\n",
    "plt.xticks(ticks=[0,1,2], labels=['1st','2nd','3rd']);\n",
    "plt.xlabel('Class')\n",
    "plt.ylabel('Number of Passengers')\n",
    "\n",
    "\n",
    "plt.subplot(1,3,3)\n",
    "unique_class,class_value_count, avg_survival,colors_map = variable_mean_survival_subset(unknown_cabins_df,'Pclass')\n",
    "plt.bar(unique_class, class_value_count, color='blue')\n",
    "plt_settings(plt,'Count Passengers with\\n Unknown Cabins\\nper Class\\n')\n",
    "plt.xticks(ticks=[0,1,2], labels=['1st','2nd','3rd']);\n",
    "plt.xlabel('Class')\n",
    "plt.ylabel('Number of Passengers');"
   ]
  },
  {
   "cell_type": "code",
   "execution_count": 597,
   "metadata": {},
   "outputs": [
    {
     "data": {
      "image/png": "[encoded data removed]",
      "text/plain": [
       "<Figure size 432x288 with 1 Axes>"
      ]
     },
     "metadata": {
      "needs_background": "light"
     },
     "output_type": "display_data"
    }
   ],
   "source": [
    "plt.hist(known_cabins_df['Pclass'].sort_values(), alpha=0.7, color ='orange',label='Known Cabin',bins=3,rwidth=0.5);\n",
    "plt.hist(unknown_cabins_df['Pclass'].sort_values(), alpha=0.5,color ='blue', label='UnKnown Cabin',bins=3,rwidth=0.5);\n",
    "plt.legend();\n",
    "plt.xticks(ticks=[0.35,1,1.66], labels=['1st','2nd','3rd']);\n",
    "\n",
    "plt_settings(plt, 'Count of Passengers Per Class \\n for known Vs Unknown Cabins\\n')\n",
    "plt.xlabel('Class')\n",
    "plt.ylabel('Number of Passengers');"
   ]
  },
  {
   "cell_type": "markdown",
   "metadata": {},
   "source": [
    "### Gender"
   ]
  },
  {
   "cell_type": "code",
   "execution_count": 512,
   "metadata": {},
   "outputs": [
    {
     "data": {
      "image/png": "[encoded data removed]",
      "text/plain": [
       "<Figure size 432x288 with 2 Axes>"
      ]
     },
     "metadata": {
      "needs_background": "light"
     },
     "output_type": "display_data"
    }
   ],
   "source": [
    "train_data['Survived'] = train_data['Survived'].astype(int)\n",
    "unique_vals = train_data['Cabin_Flag'].unique()\n",
    "\n",
    "known_cabins_df = train_data[train_data['Cabin_Flag']==1]\n",
    "unknown_cabins_df = train_data[train_data['Cabin_Flag']==0]\n",
    "\n",
    "plt.subplot(1,3,1)\n",
    "unique_class,class_value_count, avg_survival,colors_map = variable_mean_survival_subset(known_cabins_df,'Sex')\n",
    "plt.bar(unique_class, class_value_count, color='orange')\n",
    "plt_settings(plt,'Count Passengers with \\nKnown Cabins\\nper Gender\\n')\n",
    "#plt.xticks(ticks=[0,1,2], labels=['1st','2nd','3rd']);\n",
    "plt.xlabel('Gender')\n",
    "plt.ylabel('Number of Passengers')\n",
    "\n",
    "\n",
    "plt.subplot(1,3,3)\n",
    "unique_class,class_value_count, avg_survival,colors_map = variable_mean_survival_subset(unknown_cabins_df,'Sex')\n",
    "plt.bar(unique_class, class_value_count, color='blue')\n",
    "plt_settings(plt,'Count Passengers with\\n Unknown Cabins\\nper Gender\\n')\n",
    "#plt.xticks(ticks=[0,1,2], labels=['1st','2nd','3rd']);\n",
    "plt.xlabel('Gender')\n",
    "plt.ylabel('Number of Passengers');"
   ]
  },
  {
   "cell_type": "code",
   "execution_count": 596,
   "metadata": {},
   "outputs": [
    {
     "data": {
      "image/png": "[encoded data removed]",
      "text/plain": [
       "<Figure size 432x288 with 1 Axes>"
      ]
     },
     "metadata": {
      "needs_background": "light"
     },
     "output_type": "display_data"
    }
   ],
   "source": [
    "plt.hist(known_cabins_df['Sex'].sort_values(), alpha=0.8, color ='orange',label='Known Cabin', bins=2, rwidth=0.7);\n",
    "plt.hist(unknown_cabins_df['Sex'].sort_values(), alpha=0.5,color ='blue', label='UnKnown Cabin',bins=2, rwidth=0.7);\n",
    "plt.legend();\n",
    "plt.xticks(ticks=[0.25,0.74], labels=['female','male']);\n",
    "\n",
    "plt_settings(plt, 'Count of Passengers Per Class \\n for known Vs Unknown Cabins\\n')"
   ]
  },
  {
   "cell_type": "markdown",
   "metadata": {},
   "source": [
    "## What is the relationship between Fare and Survival?"
   ]
  },
  {
   "cell_type": "code",
   "execution_count": 593,
   "metadata": {},
   "outputs": [
    {
     "data": {
      "image/png": "[encoded data removed]",
      "text/plain": [
       "<Figure size 432x288 with 1 Axes>"
      ]
     },
     "metadata": {
      "needs_background": "light"
     },
     "output_type": "display_data"
    }
   ],
   "source": [
    "survived_fare = train_data[train_data['Survived']==1]['Fare']\n",
    "NOsurvived_fare = train_data[train_data['Survived']==0]['Fare']\n",
    "\n",
    "plt.hist(NOsurvived_fare, label = 'Survived=0', alpha=0.7);\n",
    "plt.hist(survived_fare, label = 'Survived=1', alpha=0.5);\n",
    "plt.legend();\n",
    "ax = plt.gca()\n",
    "ax.spines['right'].set_visible(False)\n",
    "ax.spines['top'].set_visible(False)\n",
    "plt.xlabel('Fare')\n",
    "plt.ylabel('Count')\n",
    "plt.title('Fare Distribution Per Survival State');"
   ]
  },
  {
   "cell_type": "markdown",
   "metadata": {},
   "source": [
    "### What is the relation between Fare and Class?"
   ]
  },
  {
   "cell_type": "code",
   "execution_count": 592,
   "metadata": {},
   "outputs": [
    {
     "data": {
      "image/png": "[encoded data removed]",
      "text/plain": [
       "<Figure size 576x360 with 1 Axes>"
      ]
     },
     "metadata": {
      "needs_background": "light"
     },
     "output_type": "display_data"
    }
   ],
   "source": [
    "class1_fare = train_data[train_data['Pclass']=='1']['Fare']\n",
    "class2_fare = train_data[train_data['Pclass']=='2']['Fare']\n",
    "class3_fare = train_data[train_data['Pclass']=='3']['Fare']\n",
    "\n",
    "plt.figure(figsize=(8,5))\n",
    "plt.hist(class1_fare, label = '1st Class', alpha=0.5,bins=7,histtype='stepfilled');\n",
    "plt.hist(class2_fare, label = '2nd Class', alpha=0.7,bins=7,histtype='stepfilled');\n",
    "plt.hist(class3_fare, label = '3rd Class', alpha=0.5,bins=7,histtype='stepfilled');\n",
    "\n",
    "plt.legend()\n",
    "ax = plt.gca()\n",
    "ax.spines['right'].set_visible(False)\n",
    "ax.spines['top'].set_visible(False)\n",
    "plt.xlabel('Fare')\n",
    "plt.ylabel('Count')\n",
    "plt.title('Fare Distribution Per Class');"
   ]
  },
  {
   "cell_type": "markdown",
   "metadata": {},
   "source": [
    "## Name - Title Vs Survival"
   ]
  },
  {
   "cell_type": "code",
   "execution_count": 563,
   "metadata": {},
   "outputs": [],
   "source": [
    "train_data['passenger_title'] = train_data.Name.apply(lambda x: x.split(',',1)[1].split('.')[0].strip()).values"
   ]
  },
  {
   "cell_type": "code",
   "execution_count": 565,
   "metadata": {},
   "outputs": [
    {
     "data": {
      "image/png": "[encoded data removed]",
      "text/plain": [
       "<Figure size 576x360 with 2 Axes>"
      ]
     },
     "metadata": {
      "needs_background": "light"
     },
     "output_type": "display_data"
    }
   ],
   "source": [
    "unique_title,title_value_count, avg_survival,colors_map = variable_mean_survival('passenger_title')\n",
    "\n",
    "plt.figure(figsize=(8,5))\n",
    "gspec = gridspec.GridSpec(24, 50)\n",
    "\n",
    "\n",
    "plot1 = plt.subplot(gspec[:, :15])\n",
    "plot1.barh(unique_title, title_value_count, height = 0.5)\n",
    "ax = plt.gca()\n",
    "for spine in ax.spines:\n",
    "    ax.spines[spine].set_visible(False)\n",
    "ax.tick_params(axis=u'both', which=u'both',length=0)\n",
    "ax.get_xaxis().set_visible(False)  \n",
    "plt.title('Count Passengers\\nper Passenger Title\\n');\n",
    "for i, rect in enumerate(ax.patches):\n",
    "    v =  rect.get_y()\n",
    "    ax.text( v + rect.get_width(), i-.25 , str(rect.get_width()))\n",
    "    \n",
    "    \n",
    "    \n",
    "plot2 = plt.subplot(gspec[:, 30:]) \n",
    "   \n",
    "plot2.barh(unique_title, avg_survival, height = 0.5)\n",
    "ax = plt.gca()\n",
    "for spine in ax.spines:\n",
    "    ax.spines[spine].set_visible(False)\n",
    "ax.tick_params(axis=u'both', which=u'both',length=0)\n",
    "ax.get_xaxis().set_visible(False)  \n",
    "plt.title('Average Survival Rate\\nper Passenger Title\\n');\n",
    "for i, rect in enumerate(ax.patches):\n",
    "    v =  rect.get_y()\n",
    "    width = rect.get_width()\n",
    "    ax.text(rect.get_width() , i-.25 , str(round(width,2)))\n",
    "   "
   ]
  },
  {
   "cell_type": "code",
   "execution_count": null,
   "metadata": {},
   "outputs": [],
   "source": [
    "unique_title,title_value_count, avg_survival,colors_map = variable_mean_survival('passenger_title')\n",
    "\n",
    "plt.figure(figsize=(8,5))\n",
    "gspec = gridspec.GridSpec(24, 50)\n",
    "\n",
    "\n",
    "plot1 = plt.subplot(gspec[:, :15])\n",
    "plot1.barh(unique_title, title_value_count, height = 0.5)\n",
    "ax = plt.gca()\n",
    "for spine in ax.spines:\n",
    "    ax.spines[spine].set_visible(False)\n",
    "ax.tick_params(axis=u'both', which=u'both',length=0)\n",
    "ax.get_xaxis().set_visible(False)  \n",
    "plt.title('Count Passengers\\nper Passenger Title\\n');\n",
    "for i, rect in enumerate(ax.patches):\n",
    "    v =  rect.get_y()\n",
    "    ax.text( v + rect.get_width(), i-.25 , str(rect.get_width()))\n",
    "    \n",
    "    \n",
    "    \n",
    "plot2 = plt.subplot(gspec[:, 30:]) \n",
    "   \n",
    "plot2.barh(unique_title, avg_survival, height = 0.5)\n",
    "ax = plt.gca()\n",
    "for spine in ax.spines:\n",
    "    ax.spines[spine].set_visible(False)\n",
    "ax.tick_params(axis=u'both', which=u'both',length=0)\n",
    "ax.get_xaxis().set_visible(False)  \n",
    "plt.title('Average Survival Rate\\nper Passenger Title\\n');\n",
    "for i, rect in enumerate(ax.patches):\n",
    "    v =  rect.get_y()\n",
    "    width = rect.get_width()\n",
    "    ax.text(rect.get_width() , i-.25 , str(round(width,2)))\n",
    "   "
   ]
  },
  {
   "cell_type": "markdown",
   "metadata": {},
   "source": [
    "### Ticket Vs Survival"
   ]
  },
  {
   "cell_type": "code",
   "execution_count": 34,
   "metadata": {},
   "outputs": [],
   "source": [
    "train_data['Numeric_ticket'] = train_data.Ticket.apply(lambda x: 1 if x.isnumeric() else 0)"
   ]
  },
  {
   "cell_type": "code",
   "execution_count": 35,
   "metadata": {},
   "outputs": [
    {
     "data": {
      "image/png": "[encoded data removed]",
      "text/plain": [
       "<Figure size 432x288 with 2 Axes>"
      ]
     },
     "metadata": {
      "needs_background": "light"
     },
     "output_type": "display_data"
    }
   ],
   "source": [
    "unique_tickectFlag,tickectFlag_value_count, avg_survival,colors_map = variable_mean_survival('Numeric_ticket')\n",
    "\n",
    "plt.subplot(1,3,1) \n",
    "plt.bar(unique_tickectFlag, tickectFlag_value_count, color=colors_map)\n",
    "plt_settings(plt,'Count Passengers\\nper unique_tickectFlag\\n')\n",
    "plt.xticks(ticks=[0,1],labels=['Non\\nNumeric','Numeric']);\n",
    "\n",
    "plt.subplot(1, 3, 3)\n",
    "plt.bar(unique_tickectFlag,avg_survival,color=colors_map)\n",
    "plt_settings(plt,'Average Survival Rate\\nper unique_tickectFlag\\n')\n",
    "plt.xticks(ticks=[0,1],labels=['Non\\nNumeric','Numeric']);"
   ]
  },
  {
   "cell_type": "markdown",
   "metadata": {},
   "source": [
    "# Dealing with Nulls and Missing values"
   ]
  },
  {
   "cell_type": "code",
   "execution_count": 36,
   "metadata": {},
   "outputs": [],
   "source": [
    "titanic_train_data = train_data.copy()"
   ]
  },
  {
   "cell_type": "markdown",
   "metadata": {},
   "source": [
    "### Embaked\n",
    "has only 2 missing values, so they will be dropped"
   ]
  },
  {
   "cell_type": "code",
   "execution_count": 37,
   "metadata": {},
   "outputs": [],
   "source": [
    "titanic_train_data.dropna(subset=['Embarked'],inplace = True)"
   ]
  },
  {
   "cell_type": "markdown",
   "metadata": {},
   "source": [
    "### Age\n",
    "- replace missing ages by avg age of passengers of the same class\n",
    "- re-categorize passengers into Age Groups after filling missing values"
   ]
  },
  {
   "cell_type": "code",
   "execution_count": 38,
   "metadata": {},
   "outputs": [],
   "source": [
    "def get_class_avgAge():\n",
    "    return titanic_train_data.groupby('Pclass')['Age'].mean()\n",
    "\n",
    "def derive_age(cols):\n",
    "    Age = cols[0]\n",
    "    Pclass = cols[1]\n",
    "    if pd.isnull(Age):\n",
    "        return get_class_avgAge()[Pclass]\n",
    "    else:\n",
    "        return Age\n",
    "\n",
    "titanic_train_data['Age'] = titanic_train_data[['Age','Pclass']].apply(derive_age,axis=1)  \n",
    "titanic_train_data['Age'] = round(titanic_train_data['Age'], 2)\n",
    "\n",
    "bins = [0, 2, 12, 17, 60, np.inf]\n",
    "labels = ['baby', 'child', 'teenager', 'adult', 'elderly']\n",
    "age_groups = pd.cut(titanic_train_data.Age, bins, labels = labels)\n",
    "titanic_train_data['Age_Group'] = age_groups\n",
    "titanic_train_data['Age_Group'] = titanic_train_data['Age_Group'].astype(str)"
   ]
  },
  {
   "cell_type": "markdown",
   "metadata": {},
   "source": [
    "## Fare\n",
    "replace missing fares wih avg class fare "
   ]
  },
  {
   "cell_type": "code",
   "execution_count": 39,
   "metadata": {},
   "outputs": [],
   "source": [
    "def get_class_avgFare():\n",
    "    return titanic_train_data.groupby('Pclass')['Fare'].mean()\n",
    "    \n",
    "def derive_Fare(cols):\n",
    "    Fare = cols[0]\n",
    "    Pclass = cols[1]\n",
    "    if pd.isnull(Fare):\n",
    "        return get_class_avgFare()[Pclass]\n",
    "    else:\n",
    "        return Fare   \n",
    "    \n",
    "titanic_train_data['Fare'] = titanic_train_data[['Fare','Pclass']].apply(derive_Fare,axis=1)    "
   ]
  },
  {
   "cell_type": "markdown",
   "metadata": {},
   "source": [
    "## Data types handling\n",
    "turn categorical data and Flags into str instead of int"
   ]
  },
  {
   "cell_type": "code",
   "execution_count": 40,
   "metadata": {},
   "outputs": [],
   "source": [
    "titanic_train_data.Pclass = titanic_train_data.Pclass.astype(str)\n",
    "titanic_train_data.Numeric_ticket = titanic_train_data.Numeric_ticket.astype(str)\n",
    "titanic_train_data.Cabin_Flag = titanic_train_data.Cabin_Flag.astype(str)\n",
    "titanic_train_data.Family_flag = titanic_train_data.Family_flag.astype(str)"
   ]
  },
  {
   "cell_type": "markdown",
   "metadata": {},
   "source": [
    "## Saving Processed Data"
   ]
  },
  {
   "cell_type": "code",
   "execution_count": 49,
   "metadata": {},
   "outputs": [],
   "source": [
    "processed_data_path  = os.path.join(project_path,'Data\\\\Processed_Data\\\\titanic_train_data_processed.csv')"
   ]
  },
  {
   "cell_type": "code",
   "execution_count": 50,
   "metadata": {},
   "outputs": [],
   "source": [
    "titanic_train_data.to_csv(processed_data_path, index=False)"
   ]
  },
  {
   "cell_type": "code",
   "execution_count": null,
   "metadata": {},
   "outputs": [],
   "source": []
  }
 ],
 "metadata": {
  "kernelspec": {
   "display_name": "Python 3",
   "language": "python",
   "name": "python3"
  },
  "language_info": {
   "codemirror_mode": {
    "name": "ipython",
    "version": 3
   },
   "file_extension": ".py",
   "mimetype": "text/x-python",
   "name": "python",
   "nbconvert_exporter": "python",
   "pygments_lexer": "ipython3",
   "version": "3.8.5"
  }
 },
 "nbformat": 4,
 "nbformat_minor": 4
}
