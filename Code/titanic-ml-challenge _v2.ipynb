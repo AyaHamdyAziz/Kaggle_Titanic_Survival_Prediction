{
 "cells": [
  {
   "cell_type": "markdown",
   "metadata": {
    "_cell_guid": "b1076dfc-b9ad-4769-8c92-a6c4dae69d19",
    "_uuid": "8f2839f25d086af736a60e9eeb907d3b93b6e0e5"
   },
   "source": [
    "## Summary of Findings"
   ]
  },
  {
   "cell_type": "markdown",
   "metadata": {},
   "source": [
    "- Females Have higher chances of survival\n",
    "- First class passengers have higher survival chances\n",
    "- Most Passengers from Cherbourg station were first class so Cherbourg Passengers have higehr survival chances\n",
    "- Younger people have higher chances of survival (i.e. babies, children, and teens)\n",
    "- Passengers' travel company and size has an impact on survival rates:\n",
    "    - People travelling with other people generally had higher chances of survival\n",
    "\t- People travelling in small families (max of 4 siblings, spouses, children, and parents) had higher survival chances\n",
    "\tcompared to people travelling alone or in larger groups\n",
    "\t\n",
    "- Most people with unkown cabins are 3rd class passengers,so they have lower chnaces of survival.\n",
    "- Some Cabin Categories seemed to provide better chances of survival \n",
    "\t- Some of the cabin categories are characterized by having 1st Class passengers \n",
    "- People who paid higher fares tend to have higher chances of survival as they are charazterized by being of higher class\n",
    "- Some Titles are associated with higher survival rates\n",
    "- Tickets have a prefix part and a numbe part. Some Ticket prefixes are associated with higher chances of survival."
   ]
  },
  {
   "cell_type": "markdown",
   "metadata": {},
   "source": [
    "## Things To-Do"
   ]
  },
  {
   "cell_type": "markdown",
   "metadata": {},
   "source": [
    "- To reuse the helper functions:\n",
    "    - Add them to a .py file and import it later to reuse\n",
    "\t- Add the helper functions files to a directory that will be referred to from all othe projects\n",
    "\n",
    "- For Describe2 function:\n",
    "    - Add a parameter to indicate whether the output shall be count or percentage or both\n",
    "    - Add a parameter to indicate whether the nans shall be taken into consideration for the analysis or not (eg. Median, Mode, etc)"
   ]
  },
  {
   "cell_type": "markdown",
   "metadata": {},
   "source": [
    "## Import Libraries"
   ]
  },
  {
   "cell_type": "code",
   "execution_count": 1,
   "metadata": {},
   "outputs": [],
   "source": [
    "import numpy as np \n",
    "import pandas as pd \n",
    "import matplotlib.pyplot as plt\n",
    "import matplotlib.ticker as mticker\n",
    "import seaborn as sns\n",
    "import os\n",
    "import matplotlib.gridspec as gridspec\n",
    "from scipy import stats\n",
    "import re\n",
    "import math\n",
    "import string\n",
    "from sklearn.preprocessing import MinMaxScaler\n",
    "%matplotlib inline"
   ]
  },
  {
   "cell_type": "code",
   "execution_count": 2,
   "metadata": {},
   "outputs": [],
   "source": [
    "import warnings\n",
    "warnings.filterwarnings(\"ignore\")"
   ]
  },
  {
   "cell_type": "markdown",
   "metadata": {},
   "source": [
    "## Global Variables"
   ]
  },
  {
   "cell_type": "code",
   "execution_count": 3,
   "metadata": {},
   "outputs": [],
   "source": [
    "data_folder_name = 'Data'\n",
    "raw_data_folder_name = 'Raw_Data'\n",
    "processed_data_folder_name = 'Processed_Data'\n",
    "train_csv_name = 'train.csv'\n",
    "test_csv_name = 'test.csv'\n",
    "processed_csv_name = 'titanic_train_data_processed.csv'"
   ]
  },
  {
   "cell_type": "markdown",
   "metadata": {},
   "source": [
    "## File paths"
   ]
  },
  {
   "cell_type": "code",
   "execution_count": 4,
   "metadata": {},
   "outputs": [],
   "source": [
    "project_path = os.path.abspath(os.path.join(os.getcwd(),os.pardir))\n",
    "data_folder = os.path.join(project_path,data_folder_name)\n",
    "raw_data_path = os.path.join(data_folder,raw_data_folder_name)\n",
    "processed_data_path = os.path.join(data_folder,processed_data_folder_name)\n",
    "train_data_path = os.path.join(raw_data_path,train_csv_name)\n",
    "test_data_path = os.path.join(raw_data_path,test_csv_name)\n",
    "processed_data_path = os.path.join(processed_data_path,processed_csv_name)"
   ]
  },
  {
   "cell_type": "markdown",
   "metadata": {},
   "source": [
    "## Helper Functions"
   ]
  },
  {
   "cell_type": "code",
   "execution_count": 9,
   "metadata": {},
   "outputs": [],
   "source": [
    "#------------------------------------Describing---------------------------\n",
    "#------------------------------------Shape Summary---------------------------\n",
    "def data_shape_summary(labels, catetogical_cols, numeric_cols):\n",
    "    shape = train_data.shape \n",
    "    m = shape[0]\n",
    "    n = shape[1] - 1 #n-1 because one of the columns is the desired label\n",
    "    df_shape_ratio = m/n \n",
    "    print(\"The data has:\\n\", m, 'records\\n', n+1, 'columns\\n')\n",
    "\n",
    "    len_labels = len(labels)\n",
    "    len_cat = len(catetogical_cols)\n",
    "    len_num = len(numeric_cols)\n",
    "    \n",
    "    labels =', '.join(labels)\n",
    "    catetogical_cols = ', '.join(catetogical_cols)\n",
    "    numeric_cols = ', '.join(numeric_cols)\n",
    "    print(\"Including:\\n {} label/s:\\n\\t{}\\n {} categorical columns:\\n\\t{}\\n {} numeric columns:\\n\\t{}\".format(len_labels, labels, len_cat, catetogical_cols, len_num, numeric_cols))\n",
    "     \n",
    "#-------------------------------------Uniqueness Analysis------------------------------------\n",
    "def unique_identifiers(train_data):\n",
    "    dic = dict()\n",
    "\n",
    "    for column in train_data.columns:\n",
    "        column_uniqueness = train_data[column].nunique()\n",
    "        dic[column] =column_uniqueness\n",
    "\n",
    "    uniques_df = pd.DataFrame(pd.Series(dic).sort_values(ascending=False), columns={'#unique'})\n",
    "    uniques_df['%unique'] = round((uniques_df['#unique']/m)*100,2)\n",
    "    uniques_df['unique_identifier_flag'] = uniques_df['%unique'].apply(lambda x:'Y' if x ==100.0 else ('N' if x == 0.0 else 'N/A') )\n",
    "    \n",
    "    unique_ids = uniques_df[uniques_df['unique_identifier_flag'] == 'Y'].index\n",
    "    No_unique_ids = uniques_df[uniques_df['unique_identifier_flag'] == 'N'].index\n",
    "    \n",
    "    unique_ids = ', '.join(unique_ids)\n",
    "    No_unique_ids = ', '.join(No_unique_ids)\n",
    "    print(\"The data has:\\n {} columns with 100% uniqueness:\\n\\t{}\\n\\n {} columns with 0% uniqueness:\\n\\t{}\".format(len(unique_ids),unique_ids,len(No_unique_ids),No_unique_ids ))\n",
    "    return uniques_df\n",
    "\n",
    "#---------------------------------Nulls Analysis----------------------------------------\n",
    "def return_null_levels(null_percentage):\n",
    "    null_percentage = math.ceil(null_percentage)\n",
    "    if null_percentage >= 20 and null_percentage < 30:\n",
    "        return 'Moderate Low'\n",
    "    elif null_percentage >= 30 and null_percentage < 50:\n",
    "        return 'Medium'\n",
    "    elif null_percentage >=50:\n",
    "        return 'Very High'\n",
    "    elif null_percentage == 0:\n",
    "        return 'No Nulls'\n",
    "    else:\n",
    "        return 'Very Low'\n",
    "    \n",
    "def null_analysis(train_data):\n",
    "    nulls_df = pd.DataFrame((train_data.isnull().sum()).sort_values(ascending=False), columns={'#nulls'})\n",
    "    nulls_df['%nulls'] = round(nulls_df['#nulls']/m*100,2)\n",
    "    nulls_df['nulls_lvl'] = nulls_df['%nulls'].apply(lambda x: return_null_levels(x))\n",
    "    \n",
    "    very_low_nulls =  nulls_df[nulls_df['nulls_lvl'] == 'Very Low'].index\n",
    "    low_nulls =  nulls_df[nulls_df['nulls_lvl'] == 'Moderate Low'].index\n",
    "    mid_nulls =  nulls_df[nulls_df['nulls_lvl'] == 'Medium'].index\n",
    "    high_nulls =  nulls_df[nulls_df['nulls_lvl'] == 'Very High'].index\n",
    "    \n",
    "    very_low_nulls_str = ', '.join(very_low_nulls)\n",
    "    low_nulls_str=', '.join(low_nulls)\n",
    "    mid_nulls_str=', '.join(mid_nulls)\n",
    "    high_nulls_str=', '.join(high_nulls)\n",
    "    \n",
    "    if len(high_nulls) != 0 :\n",
    "        print('{} Column(s) have a very high number of null records:\\n\\t{}'.format(len(high_nulls),high_nulls_str))\n",
    "    if len(mid_nulls) != 0 :\n",
    "        print('{} Column(s) have a moderate number of null records\\n\\t{}'.format(len(mid_nulls),mid_nulls_str))    \n",
    "    if len(low_nulls) != 0 :\n",
    "        print('{} Column(s) have a moderately low number of null records\\n\\t{}'.format(len(low_nulls),low_nulls_str))    \n",
    "    if len(very_low_nulls) != 0 :\n",
    "        print('{} Column(s) have very few null records\\n\\t{}'.format(len(very_low_nulls),very_low_nulls_str))             \n",
    "    \n",
    "    return nulls_df\n",
    "\n",
    "#-------------------------------Numeric Describe2--------------------------------\n",
    "def desc_IQR(df):\n",
    "    desc_df = pd.DataFrame(df.describe())\n",
    "    iqr_series = desc_df.loc['75%'] - desc_df.loc['25%']\n",
    "    frame = {'IQR': iqr_series}\n",
    "    desc_df = desc_df.append(pd.DataFrame(frame).T)\n",
    "    \n",
    "    min_thresh = desc_df.loc['25%'] - 1.5*desc_df.loc['IQR']\n",
    "    max_thresh = desc_df.loc['75%'] + 1.5*desc_df.loc['IQR']\n",
    "\n",
    "    frame = {'min_IQR_thresh':min_thresh, 'max_IQR_thresh':max_thresh}\n",
    "    desc_df = desc_df.append(pd.DataFrame(frame).T)\n",
    "\n",
    "    return desc_df.loc['IQR':]\n",
    "\n",
    "def desc_IQR_Outliers(df, desc_IQR):\n",
    "    IQR_outliers_df = pd.DataFrame((df<desc_IQR.loc['min_IQR_thresh']).sum() + (df>desc_IQR.loc['max_IQR_thresh']).sum(), columns={'#Outliers'} )\n",
    "    IQR_outliers_df['%Outliers'] = round((IQR_outliers_df['#Outliers']/m*100),2)\n",
    "    return IQR_outliers_df\n",
    "\n",
    "def numeric_desc(df):  #what is density?\n",
    "    df = df.select_dtypes(include=[np.number])\n",
    "    unique_identifier_cols = df.columns[df.columns.isin(unique_identifiers_list)]\n",
    "    NoNunique_identifier_cols = df.columns[~df.columns.isin(unique_identifiers_list)]\n",
    "    desc = pd.DataFrame()\n",
    "    desc['Type'] = df.dtypes\n",
    "    #desc['Density'] = np.nan\n",
    "    desc['No. of Values'] = df.count()\n",
    "    desc['No. of Unique Values'] = df.nunique(dropna=False) # taking nans into consideration\n",
    "    desc['No. of NaN'] = df.apply(np.isnan, axis=1).sum()\n",
    "    desc['No. of Zeros'] = len(df)- np.count_nonzero(df, axis=0)\n",
    "    desc['No. of +ve Values'] = df.apply(lambda x: x>0).sum()\n",
    "    desc['Min'] = df.min()\n",
    "    desc['Max'] = df.max()\n",
    "    desc['Mean'] = df.mean()\n",
    "    desc['Std'] = df.std()\n",
    "    desc['Median'] = df.median(skipna=False) # taking nans into consideration  this is the part that can be parametertized\n",
    "    desc['Mode'] = df[NoNunique_identifier_cols].mode().T #remove the columns that have 100% uniqueness\n",
    "    desc['Skew'] = df.skew()\n",
    "    desc['Kurtosis'] = df.kurtosis() #-ve >> left tailed dist // +ve >> right tailed //0 >>normal dist\n",
    "    #desc['No. of 3 Sigma Outliers'] = (np.abs(stats.zscore(df,nan_policy='omit')) > 3).sum(axis=0) #omitting nans to match describe2\n",
    "    desc['No. of IQR Outliers'] = desc_IQR_Outliers(df, desc_IQR(df))['#Outliers']\n",
    "    \n",
    "    return desc\n",
    "#----------------------------------Object Describe2-----------------------------\n",
    "def object_desc(df):  #what is density?\n",
    "    df = df.select_dtypes(include=[np.object])\n",
    "    desc = pd.DataFrame(index=df.columns)\n",
    "    desc['Type'] = df.dtypes\n",
    "    #desc['Density'] = np.nan\n",
    "    desc['No. of Values'] = df.count() #non na values\n",
    "    desc['No. of Unique Values'] = df.nunique(dropna=False) # taking nans into consideration\n",
    "    desc['No. of NaN'] = df.isnull().sum()\n",
    "    return desc\n",
    "\n",
    "def desc(df):\n",
    "    nums =  numeric_desc(df)\n",
    "    obj =   object_desc(df)\n",
    "    return nums,obj  \n",
    "#---------------------------------------------------------------\n",
    "#------------------------------------Plotting---------------------------\n",
    "#---------------------------------------------------------------\n",
    "def colors_list(unique_list):\n",
    "    length = len(unique_list)\n",
    "    colors_list = ['orange']\n",
    "    colors_list.extend(['blue']*(length-1))\n",
    "    return colors_list\n",
    "\n",
    "#---------------------------------------------------------------\n",
    "\n",
    "def colors_list_sorted(train_data_copy,var_name,var_unique_list):\n",
    "    train_data_copy = train_data_copy.set_index(var_name)\n",
    "    means_index_sorted = pd.DataFrame(train_data_copy.groupby(level=0)['Survived'].mean()).sort_values(by='Survived',ascending=False)\n",
    "    colors_listed = colors_list(var_unique_list)\n",
    "    colors_df = pd.DataFrame(index = means_index_sorted.index, data= {'colors': colors_listed})\n",
    "    colors_df = colors_df.sort_index()\n",
    "    return list(colors_df.sort_index()['colors'])\n",
    "\n",
    "#---------------------------------------------------------------\n",
    "\n",
    "# def variable_mean_survival(var_name):\n",
    "#     train_data_copy = train_data[~train_data[var_name].isna()]\n",
    "#     train_data_copy['Survived'] =  train_data_copy['Survived'].astype(int)\n",
    "#     if train_data_copy[var_name].dtype.name != 'category':\n",
    "#         var_unique_list = sorted(list(train_data_copy[var_name].unique())) \n",
    "#     else:\n",
    "#         var_unique_list = list(train_data[var_name].dtype.categories)\n",
    "#     countPerVarValue = pd.DataFrame(train_data_copy.groupby(var_name)['PassengerId'].count(),index = var_unique_list)['PassengerId'] \n",
    "#     avg_survival = pd.DataFrame(train_data_copy.set_index(var_name).groupby(level=0)['Survived'].mean(),index = var_unique_list)['Survived']\n",
    "\n",
    "#     colors_map = colors_list_sorted(train_data_copy,var_name,var_unique_list)\n",
    "                                      \n",
    "#     return var_unique_list, countPerVarValue, avg_survival, colors_map\n",
    "def variable_mean_survival(var_name):\n",
    "    output_df = pd.DataFrame()\n",
    "    train_data_copy = train_data[~train_data[var_name].isna()]\n",
    "    train_data_copy['Survived'] =  train_data_copy['Survived'].astype(int)\n",
    "    if train_data_copy[var_name].dtype.name != 'category':\n",
    "        var_unique_list = sorted(list(train_data_copy[var_name].unique())) \n",
    "    else:\n",
    "        var_unique_list = list(train_data[var_name].dtype.categories)\n",
    "    countPerVarValue = pd.DataFrame(train_data_copy.groupby(var_name)['PassengerId'].count(),index = var_unique_list)['PassengerId'] \n",
    "    avg_survival = pd.DataFrame(train_data_copy.set_index(var_name).groupby(level=0)['Survived'].mean(),index = var_unique_list)['Survived']\n",
    "\n",
    "    colors_map = colors_list_sorted(train_data_copy,var_name,var_unique_list)\n",
    "    output_df['var_unique_list'] = var_unique_list\n",
    "    output_df.set_index('var_unique_list', inplace=True)\n",
    "    output_df['countPerVarValue'] = countPerVarValue\n",
    "    output_df['avg_survival'] = avg_survival\n",
    "    output_df['colors_map'] = colors_map\n",
    "    #return var_unique_list, countPerVarValue, avg_survival, colors_map\n",
    "    return output_df\n",
    "#---------------------------------------------------------------\n",
    "\n",
    "def variable_mean_survival_sorted_survival(var_name):\n",
    "    train_data_copy = train_data[~train_data[var_name].isna()]\n",
    "    train_data_copy['Survived'] =  train_data_copy['Survived'].astype(int)\n",
    "    var_unique_list = sorted(list(train_data_copy[var_name].unique())) \n",
    "\n",
    "    countPerVarValue = pd.DataFrame(train_data_copy.groupby(var_name)['PassengerId'].count(),index = var_unique_list)['PassengerId'] \n",
    "    avg_survival = pd.DataFrame(train_data_copy.set_index(var_name).groupby(level=0)['Survived'].mean(),index = var_unique_list)['Survived']\n",
    "    avg_survival = round(avg_survival,2)\n",
    "    colors_map = colors_list_sorted(train_data_copy,var_name,var_unique_list)\n",
    "    \n",
    "    df = pd.concat([countPerVarValue,avg_survival], axis=1).rename(columns={'PassengerId':'countPerVarValue','Survived':'avg_survival'}).sort_values(by='avg_survival')\n",
    "\n",
    "    return df\n",
    "\n",
    "#---------------------------------------------------------------\n",
    "\n",
    "def variable_mean_survival_subset(df,var_name):\n",
    "    train_data_copy = df[~train_data[var_name].isna()]\n",
    "    train_data_copy['Survived'] =  train_data_copy['Survived'].astype(int)\n",
    "    var_unique_list = sorted(list(train_data_copy[var_name].unique()))     \n",
    "    countPerVarValue = pd.DataFrame(train_data_copy.groupby(var_name)['PassengerId'].count(),index = var_unique_list)['PassengerId'] \n",
    "    avg_survival = pd.DataFrame(train_data_copy.set_index(var_name).groupby(level=0)['Survived'].mean(),index = var_unique_list)['Survived']\n",
    "\n",
    "    colors_map = colors_list_sorted(train_data_copy,var_name,var_unique_list)\n",
    "                                      \n",
    "    return var_unique_list, countPerVarValue, avg_survival, colors_map\n",
    "\n",
    "#---------------------------------------------------------------\n",
    "\n",
    "def plt_settings(cur_plt, ititle):\n",
    "    ax = cur_plt.gca()\n",
    "    for spine in ax.spines:\n",
    "        ax.spines[spine].set_visible(False)\n",
    "    ax.tick_params(axis=u'both', which=u'both',length=0)\n",
    "    #ax.get_yaxis().set_visible(False)  \n",
    "    ax.set_yticklabels([])\n",
    "    plt.title(ititle)\n",
    "    for i, rect in enumerate(ax.patches):\n",
    "        height = rect.get_height()\n",
    "        ax.text(rect.get_x() + rect.get_width() / 2, height,  str(round(height, 2)),\n",
    "                ha='center', va='bottom')  \n",
    "#---------------------------------------------------------------\n",
    "\n",
    "def plt_simple_settings(cur_plt, ititle):\n",
    "    ax = cur_plt.gca()\n",
    "    for spine in ax.spines:\n",
    "        ax.spines[spine].set_visible(False)\n",
    "    ax.tick_params(axis=u'both', which=u'both',length=0)\n",
    "    #ax.get_yaxis().set_visible(False)  \n",
    "    #ax.set_yticklabels([])\n",
    "    plt.title(ititle)\n",
    "    #for i, rect in enumerate(ax.patches):\n",
    "     #   height = rect.get_height()\n",
    "     #   ax.text(rect.get_x() + rect.get_width() / 2, height,  str(round(height, 2)),\n",
    "     #           ha='center', va='bottom')        \n",
    "\n",
    "#---------------------------------------------------------------\n",
    "\n",
    "def remove_top_right_spines(cur_plt):\n",
    "    ax = cur_plt.gca()\n",
    "    ax.spines['right'].set_visible(False)\n",
    "    ax.spines['top'].set_visible(False)\n",
    "    \n",
    "#---------------------------------------------------------------\n",
    "\n",
    "def setup_legends(colors_dict, plt):\n",
    "    labels = list(colors_dict.keys())\n",
    "    handles = [plt.Rectangle((0,0),1,1, color=colors_dict[label]) for label in labels]\n",
    "    plt.subplot(1, 3, 2)\n",
    "    plt_settings(plt,'')\n",
    "    plt.gca().get_xaxis().set_visible(False)  \n",
    "    plt.legend(handles, labels);   \n",
    "    \n",
    "    \n",
    "    "
   ]
  },
  {
   "cell_type": "markdown",
   "metadata": {},
   "source": [
    "## Loading the data"
   ]
  },
  {
   "cell_type": "code",
   "execution_count": 6,
   "metadata": {},
   "outputs": [],
   "source": [
    "raw_data_train = pd.read_csv(train_data_path)\n",
    "\n",
    "train_data = raw_data_train.copy()"
   ]
  },
  {
   "cell_type": "markdown",
   "metadata": {},
   "source": [
    "# Exploratory Data Analysis"
   ]
  },
  {
   "cell_type": "markdown",
   "metadata": {},
   "source": [
    "### Shape of Data"
   ]
  },
  {
   "cell_type": "code",
   "execution_count": 7,
   "metadata": {},
   "outputs": [
    {
     "name": "stdout",
     "output_type": "stream",
     "text": [
      "The data has:\n",
      " 891 records\n",
      " 12 columns\n",
      "\n",
      "Including:\n",
      " 1 label/s:\n",
      "\tSurvived\n",
      " 7 categorical columns:\n",
      "\tSurvived, Pclass, Name, Sex, Ticket, Cabin, Embarked\n",
      " 5 numeric columns:\n",
      "\tPassengerId, Age, SibSp, Parch, Fare\n"
     ]
    }
   ],
   "source": [
    "labels = ['Survived']\n",
    "catetogical_cols = ['Survived', 'Pclass', 'Name', 'Sex', 'Ticket', 'Cabin', 'Embarked']\n",
    "numeric_cols = ['PassengerId',  'Age', 'SibSp', 'Parch','Fare']\n",
    "\n",
    "shape = train_data.shape \n",
    "m = shape[0]\n",
    "n = shape[1] - 1 #n-1 because one of the columns is the desired label\n",
    "df_shape_ratio = m/n \n",
    "    \n",
    "data_shape_summary(labels, catetogical_cols, numeric_cols)    "
   ]
  },
  {
   "cell_type": "code",
   "execution_count": 8,
   "metadata": {},
   "outputs": [],
   "source": [
    "for col in catetogical_cols:\n",
    "    if raw_data_train[col].dtypes != 'O':\n",
    "        train_data[col] = train_data[col].astype('str') "
   ]
  },
  {
   "cell_type": "markdown",
   "metadata": {},
   "source": [
    "### Full Row Duplication"
   ]
  },
  {
   "cell_type": "code",
   "execution_count": 11,
   "metadata": {},
   "outputs": [
    {
     "name": "stdout",
     "output_type": "stream",
     "text": [
      "The data has  0 full row duplications\n"
     ]
    }
   ],
   "source": [
    "cnt_full_row_dup = sum(train_data.duplicated())\n",
    "print(\"The data has \",cnt_full_row_dup, 'full row duplications')"
   ]
  },
  {
   "cell_type": "markdown",
   "metadata": {},
   "source": [
    "### Nulls In Data"
   ]
  },
  {
   "cell_type": "code",
   "execution_count": 12,
   "metadata": {},
   "outputs": [
    {
     "name": "stdout",
     "output_type": "stream",
     "text": [
      "1 Column(s) have a very high number of null records:\n",
      "\tCabin\n",
      "1 Column(s) have a moderately low number of null records\n",
      "\tAge\n",
      "1 Column(s) have very few null records\n",
      "\tEmbarked\n"
     ]
    },
    {
     "data": {
      "text/html": [
       "<div>\n",
       "<style scoped>\n",
       "    .dataframe tbody tr th:only-of-type {\n",
       "        vertical-align: middle;\n",
       "    }\n",
       "\n",
       "    .dataframe tbody tr th {\n",
       "        vertical-align: top;\n",
       "    }\n",
       "\n",
       "    .dataframe thead th {\n",
       "        text-align: right;\n",
       "    }\n",
       "</style>\n",
       "<table border=\"1\" class=\"dataframe\">\n",
       "  <thead>\n",
       "    <tr style=\"text-align: right;\">\n",
       "      <th></th>\n",
       "      <th>#nulls</th>\n",
       "      <th>%nulls</th>\n",
       "      <th>nulls_lvl</th>\n",
       "    </tr>\n",
       "  </thead>\n",
       "  <tbody>\n",
       "    <tr>\n",
       "      <th>Cabin</th>\n",
       "      <td>687</td>\n",
       "      <td>77.10</td>\n",
       "      <td>Very High</td>\n",
       "    </tr>\n",
       "    <tr>\n",
       "      <th>Age</th>\n",
       "      <td>177</td>\n",
       "      <td>19.87</td>\n",
       "      <td>Moderate Low</td>\n",
       "    </tr>\n",
       "    <tr>\n",
       "      <th>Embarked</th>\n",
       "      <td>2</td>\n",
       "      <td>0.22</td>\n",
       "      <td>Very Low</td>\n",
       "    </tr>\n",
       "    <tr>\n",
       "      <th>Fare</th>\n",
       "      <td>0</td>\n",
       "      <td>0.00</td>\n",
       "      <td>No Nulls</td>\n",
       "    </tr>\n",
       "    <tr>\n",
       "      <th>Ticket</th>\n",
       "      <td>0</td>\n",
       "      <td>0.00</td>\n",
       "      <td>No Nulls</td>\n",
       "    </tr>\n",
       "    <tr>\n",
       "      <th>Parch</th>\n",
       "      <td>0</td>\n",
       "      <td>0.00</td>\n",
       "      <td>No Nulls</td>\n",
       "    </tr>\n",
       "    <tr>\n",
       "      <th>SibSp</th>\n",
       "      <td>0</td>\n",
       "      <td>0.00</td>\n",
       "      <td>No Nulls</td>\n",
       "    </tr>\n",
       "    <tr>\n",
       "      <th>Sex</th>\n",
       "      <td>0</td>\n",
       "      <td>0.00</td>\n",
       "      <td>No Nulls</td>\n",
       "    </tr>\n",
       "    <tr>\n",
       "      <th>Name</th>\n",
       "      <td>0</td>\n",
       "      <td>0.00</td>\n",
       "      <td>No Nulls</td>\n",
       "    </tr>\n",
       "    <tr>\n",
       "      <th>Pclass</th>\n",
       "      <td>0</td>\n",
       "      <td>0.00</td>\n",
       "      <td>No Nulls</td>\n",
       "    </tr>\n",
       "    <tr>\n",
       "      <th>Survived</th>\n",
       "      <td>0</td>\n",
       "      <td>0.00</td>\n",
       "      <td>No Nulls</td>\n",
       "    </tr>\n",
       "    <tr>\n",
       "      <th>PassengerId</th>\n",
       "      <td>0</td>\n",
       "      <td>0.00</td>\n",
       "      <td>No Nulls</td>\n",
       "    </tr>\n",
       "  </tbody>\n",
       "</table>\n",
       "</div>"
      ],
      "text/plain": [
       "             #nulls  %nulls     nulls_lvl\n",
       "Cabin           687   77.10     Very High\n",
       "Age             177   19.87  Moderate Low\n",
       "Embarked          2    0.22      Very Low\n",
       "Fare              0    0.00      No Nulls\n",
       "Ticket            0    0.00      No Nulls\n",
       "Parch             0    0.00      No Nulls\n",
       "SibSp             0    0.00      No Nulls\n",
       "Sex               0    0.00      No Nulls\n",
       "Name              0    0.00      No Nulls\n",
       "Pclass            0    0.00      No Nulls\n",
       "Survived          0    0.00      No Nulls\n",
       "PassengerId       0    0.00      No Nulls"
      ]
     },
     "execution_count": 12,
     "metadata": {},
     "output_type": "execute_result"
    }
   ],
   "source": [
    "#print statements for nulls : >20% - <30% nulls, 30%-50%  , >50%\n",
    "nulls_df = null_analysis(train_data)\n",
    "nulls_df"
   ]
  },
  {
   "cell_type": "code",
   "execution_count": 13,
   "metadata": {},
   "outputs": [
    {
     "data": {
      "image/png": "[encoded data removed]",
      "text/plain": [
       "<Figure size 432x288 with 1 Axes>"
      ]
     },
     "metadata": {
      "needs_background": "light"
     },
     "output_type": "display_data"
    }
   ],
   "source": [
    "plt.figure()   ## this should plot %nulls not #nulls\n",
    "plt.barh(nulls_df.index, width=nulls_df['%nulls'])\n",
    "remove_top_right_spines(plt)\n",
    "plt.title('Percentage of Nulls per Column');\n",
    "plt.ylabel('Column')\n",
    "plt.xlabel('% Nulls');"
   ]
  },
  {
   "cell_type": "markdown",
   "metadata": {},
   "source": [
    "### Uniqueness of Data"
   ]
  },
  {
   "cell_type": "code",
   "execution_count": 14,
   "metadata": {},
   "outputs": [
    {
     "name": "stdout",
     "output_type": "stream",
     "text": [
      "The data has:\n",
      " 17 columns with 100% uniqueness:\n",
      "\tName, PassengerId\n",
      "\n",
      " 0 columns with 0% uniqueness:\n",
      "\t\n"
     ]
    },
    {
     "data": {
      "text/html": [
       "<div>\n",
       "<style scoped>\n",
       "    .dataframe tbody tr th:only-of-type {\n",
       "        vertical-align: middle;\n",
       "    }\n",
       "\n",
       "    .dataframe tbody tr th {\n",
       "        vertical-align: top;\n",
       "    }\n",
       "\n",
       "    .dataframe thead th {\n",
       "        text-align: right;\n",
       "    }\n",
       "</style>\n",
       "<table border=\"1\" class=\"dataframe\">\n",
       "  <thead>\n",
       "    <tr style=\"text-align: right;\">\n",
       "      <th></th>\n",
       "      <th>#unique</th>\n",
       "      <th>%unique</th>\n",
       "      <th>unique_identifier_flag</th>\n",
       "    </tr>\n",
       "  </thead>\n",
       "  <tbody>\n",
       "    <tr>\n",
       "      <th>Name</th>\n",
       "      <td>891</td>\n",
       "      <td>100.00</td>\n",
       "      <td>Y</td>\n",
       "    </tr>\n",
       "    <tr>\n",
       "      <th>PassengerId</th>\n",
       "      <td>891</td>\n",
       "      <td>100.00</td>\n",
       "      <td>Y</td>\n",
       "    </tr>\n",
       "    <tr>\n",
       "      <th>Ticket</th>\n",
       "      <td>681</td>\n",
       "      <td>76.43</td>\n",
       "      <td>N/A</td>\n",
       "    </tr>\n",
       "    <tr>\n",
       "      <th>Fare</th>\n",
       "      <td>248</td>\n",
       "      <td>27.83</td>\n",
       "      <td>N/A</td>\n",
       "    </tr>\n",
       "    <tr>\n",
       "      <th>Cabin</th>\n",
       "      <td>147</td>\n",
       "      <td>16.50</td>\n",
       "      <td>N/A</td>\n",
       "    </tr>\n",
       "    <tr>\n",
       "      <th>Age</th>\n",
       "      <td>88</td>\n",
       "      <td>9.88</td>\n",
       "      <td>N/A</td>\n",
       "    </tr>\n",
       "    <tr>\n",
       "      <th>Parch</th>\n",
       "      <td>7</td>\n",
       "      <td>0.79</td>\n",
       "      <td>N/A</td>\n",
       "    </tr>\n",
       "    <tr>\n",
       "      <th>SibSp</th>\n",
       "      <td>7</td>\n",
       "      <td>0.79</td>\n",
       "      <td>N/A</td>\n",
       "    </tr>\n",
       "    <tr>\n",
       "      <th>Embarked</th>\n",
       "      <td>3</td>\n",
       "      <td>0.34</td>\n",
       "      <td>N/A</td>\n",
       "    </tr>\n",
       "    <tr>\n",
       "      <th>Pclass</th>\n",
       "      <td>3</td>\n",
       "      <td>0.34</td>\n",
       "      <td>N/A</td>\n",
       "    </tr>\n",
       "    <tr>\n",
       "      <th>Sex</th>\n",
       "      <td>2</td>\n",
       "      <td>0.22</td>\n",
       "      <td>N/A</td>\n",
       "    </tr>\n",
       "    <tr>\n",
       "      <th>Survived</th>\n",
       "      <td>2</td>\n",
       "      <td>0.22</td>\n",
       "      <td>N/A</td>\n",
       "    </tr>\n",
       "  </tbody>\n",
       "</table>\n",
       "</div>"
      ],
      "text/plain": [
       "             #unique  %unique unique_identifier_flag\n",
       "Name             891   100.00                      Y\n",
       "PassengerId      891   100.00                      Y\n",
       "Ticket           681    76.43                    N/A\n",
       "Fare             248    27.83                    N/A\n",
       "Cabin            147    16.50                    N/A\n",
       "Age               88     9.88                    N/A\n",
       "Parch              7     0.79                    N/A\n",
       "SibSp              7     0.79                    N/A\n",
       "Embarked           3     0.34                    N/A\n",
       "Pclass             3     0.34                    N/A\n",
       "Sex                2     0.22                    N/A\n",
       "Survived           2     0.22                    N/A"
      ]
     },
     "execution_count": 14,
     "metadata": {},
     "output_type": "execute_result"
    }
   ],
   "source": [
    "#unique_identifiers fn should return the df and the names of the 100% and 0 % uniqueness\n",
    "uniques_df = unique_identifiers(train_data)\n",
    "unique_identifiers_list = list(uniques_df[uniques_df['unique_identifier_flag']=='Y'].index)\n",
    "uniques_df"
   ]
  },
  {
   "cell_type": "markdown",
   "metadata": {},
   "source": [
    "## Statistical Summary Tables"
   ]
  },
  {
   "cell_type": "code",
   "execution_count": 15,
   "metadata": {},
   "outputs": [
    {
     "data": {
      "text/html": [
       "<div>\n",
       "<style scoped>\n",
       "    .dataframe tbody tr th:only-of-type {\n",
       "        vertical-align: middle;\n",
       "    }\n",
       "\n",
       "    .dataframe tbody tr th {\n",
       "        vertical-align: top;\n",
       "    }\n",
       "\n",
       "    .dataframe thead th {\n",
       "        text-align: right;\n",
       "    }\n",
       "</style>\n",
       "<table border=\"1\" class=\"dataframe\">\n",
       "  <thead>\n",
       "    <tr style=\"text-align: right;\">\n",
       "      <th></th>\n",
       "      <th>Type</th>\n",
       "      <th>No. of Values</th>\n",
       "      <th>No. of Unique Values</th>\n",
       "      <th>No. of NaN</th>\n",
       "      <th>No. of Zeros</th>\n",
       "      <th>No. of +ve Values</th>\n",
       "      <th>Min</th>\n",
       "      <th>Max</th>\n",
       "      <th>Mean</th>\n",
       "      <th>Std</th>\n",
       "      <th>Median</th>\n",
       "      <th>Mode</th>\n",
       "      <th>Skew</th>\n",
       "      <th>Kurtosis</th>\n",
       "      <th>No. of IQR Outliers</th>\n",
       "    </tr>\n",
       "  </thead>\n",
       "  <tbody>\n",
       "    <tr>\n",
       "      <th>PassengerId</th>\n",
       "      <td>int64</td>\n",
       "      <td>891</td>\n",
       "      <td>891</td>\n",
       "      <td>0</td>\n",
       "      <td>0</td>\n",
       "      <td>891</td>\n",
       "      <td>1.00</td>\n",
       "      <td>891.0000</td>\n",
       "      <td>446.000000</td>\n",
       "      <td>257.353842</td>\n",
       "      <td>446.0000</td>\n",
       "      <td>NaN</td>\n",
       "      <td>0.000000</td>\n",
       "      <td>-1.200000</td>\n",
       "      <td>0</td>\n",
       "    </tr>\n",
       "    <tr>\n",
       "      <th>Age</th>\n",
       "      <td>float64</td>\n",
       "      <td>714</td>\n",
       "      <td>89</td>\n",
       "      <td>177</td>\n",
       "      <td>0</td>\n",
       "      <td>714</td>\n",
       "      <td>0.42</td>\n",
       "      <td>80.0000</td>\n",
       "      <td>29.699118</td>\n",
       "      <td>14.526497</td>\n",
       "      <td>NaN</td>\n",
       "      <td>24.00</td>\n",
       "      <td>0.389108</td>\n",
       "      <td>0.178274</td>\n",
       "      <td>11</td>\n",
       "    </tr>\n",
       "    <tr>\n",
       "      <th>SibSp</th>\n",
       "      <td>int64</td>\n",
       "      <td>891</td>\n",
       "      <td>7</td>\n",
       "      <td>0</td>\n",
       "      <td>608</td>\n",
       "      <td>283</td>\n",
       "      <td>0.00</td>\n",
       "      <td>8.0000</td>\n",
       "      <td>0.523008</td>\n",
       "      <td>1.102743</td>\n",
       "      <td>0.0000</td>\n",
       "      <td>0.00</td>\n",
       "      <td>3.695352</td>\n",
       "      <td>17.880420</td>\n",
       "      <td>46</td>\n",
       "    </tr>\n",
       "    <tr>\n",
       "      <th>Parch</th>\n",
       "      <td>int64</td>\n",
       "      <td>891</td>\n",
       "      <td>7</td>\n",
       "      <td>0</td>\n",
       "      <td>678</td>\n",
       "      <td>213</td>\n",
       "      <td>0.00</td>\n",
       "      <td>6.0000</td>\n",
       "      <td>0.381594</td>\n",
       "      <td>0.806057</td>\n",
       "      <td>0.0000</td>\n",
       "      <td>0.00</td>\n",
       "      <td>2.749117</td>\n",
       "      <td>9.778125</td>\n",
       "      <td>213</td>\n",
       "    </tr>\n",
       "    <tr>\n",
       "      <th>Fare</th>\n",
       "      <td>float64</td>\n",
       "      <td>891</td>\n",
       "      <td>248</td>\n",
       "      <td>0</td>\n",
       "      <td>15</td>\n",
       "      <td>876</td>\n",
       "      <td>0.00</td>\n",
       "      <td>512.3292</td>\n",
       "      <td>32.204208</td>\n",
       "      <td>49.693429</td>\n",
       "      <td>14.4542</td>\n",
       "      <td>8.05</td>\n",
       "      <td>4.787317</td>\n",
       "      <td>33.398141</td>\n",
       "      <td>116</td>\n",
       "    </tr>\n",
       "  </tbody>\n",
       "</table>\n",
       "</div>"
      ],
      "text/plain": [
       "                Type  No. of Values  No. of Unique Values  No. of NaN  \\\n",
       "PassengerId    int64            891                   891           0   \n",
       "Age          float64            714                    89         177   \n",
       "SibSp          int64            891                     7           0   \n",
       "Parch          int64            891                     7           0   \n",
       "Fare         float64            891                   248           0   \n",
       "\n",
       "             No. of Zeros  No. of +ve Values   Min       Max        Mean  \\\n",
       "PassengerId             0                891  1.00  891.0000  446.000000   \n",
       "Age                     0                714  0.42   80.0000   29.699118   \n",
       "SibSp                 608                283  0.00    8.0000    0.523008   \n",
       "Parch                 678                213  0.00    6.0000    0.381594   \n",
       "Fare                   15                876  0.00  512.3292   32.204208   \n",
       "\n",
       "                    Std    Median   Mode      Skew   Kurtosis  \\\n",
       "PassengerId  257.353842  446.0000    NaN  0.000000  -1.200000   \n",
       "Age           14.526497       NaN  24.00  0.389108   0.178274   \n",
       "SibSp          1.102743    0.0000   0.00  3.695352  17.880420   \n",
       "Parch          0.806057    0.0000   0.00  2.749117   9.778125   \n",
       "Fare          49.693429   14.4542   8.05  4.787317  33.398141   \n",
       "\n",
       "             No. of IQR Outliers  \n",
       "PassengerId                    0  \n",
       "Age                           11  \n",
       "SibSp                         46  \n",
       "Parch                        213  \n",
       "Fare                         116  "
      ]
     },
     "execution_count": 15,
     "metadata": {},
     "output_type": "execute_result"
    }
   ],
   "source": [
    "numeric_desc_df = desc(train_data)[0]  \n",
    "numeric_desc_df"
   ]
  },
  {
   "cell_type": "code",
   "execution_count": 16,
   "metadata": {},
   "outputs": [
    {
     "data": {
      "text/html": [
       "<div>\n",
       "<style scoped>\n",
       "    .dataframe tbody tr th:only-of-type {\n",
       "        vertical-align: middle;\n",
       "    }\n",
       "\n",
       "    .dataframe tbody tr th {\n",
       "        vertical-align: top;\n",
       "    }\n",
       "\n",
       "    .dataframe thead th {\n",
       "        text-align: right;\n",
       "    }\n",
       "</style>\n",
       "<table border=\"1\" class=\"dataframe\">\n",
       "  <thead>\n",
       "    <tr style=\"text-align: right;\">\n",
       "      <th></th>\n",
       "      <th>Type</th>\n",
       "      <th>No. of Values</th>\n",
       "      <th>No. of Unique Values</th>\n",
       "      <th>No. of NaN</th>\n",
       "    </tr>\n",
       "  </thead>\n",
       "  <tbody>\n",
       "    <tr>\n",
       "      <th>Survived</th>\n",
       "      <td>object</td>\n",
       "      <td>891</td>\n",
       "      <td>2</td>\n",
       "      <td>0</td>\n",
       "    </tr>\n",
       "    <tr>\n",
       "      <th>Pclass</th>\n",
       "      <td>object</td>\n",
       "      <td>891</td>\n",
       "      <td>3</td>\n",
       "      <td>0</td>\n",
       "    </tr>\n",
       "    <tr>\n",
       "      <th>Name</th>\n",
       "      <td>object</td>\n",
       "      <td>891</td>\n",
       "      <td>891</td>\n",
       "      <td>0</td>\n",
       "    </tr>\n",
       "    <tr>\n",
       "      <th>Sex</th>\n",
       "      <td>object</td>\n",
       "      <td>891</td>\n",
       "      <td>2</td>\n",
       "      <td>0</td>\n",
       "    </tr>\n",
       "    <tr>\n",
       "      <th>Ticket</th>\n",
       "      <td>object</td>\n",
       "      <td>891</td>\n",
       "      <td>681</td>\n",
       "      <td>0</td>\n",
       "    </tr>\n",
       "    <tr>\n",
       "      <th>Cabin</th>\n",
       "      <td>object</td>\n",
       "      <td>204</td>\n",
       "      <td>148</td>\n",
       "      <td>687</td>\n",
       "    </tr>\n",
       "    <tr>\n",
       "      <th>Embarked</th>\n",
       "      <td>object</td>\n",
       "      <td>889</td>\n",
       "      <td>4</td>\n",
       "      <td>2</td>\n",
       "    </tr>\n",
       "  </tbody>\n",
       "</table>\n",
       "</div>"
      ],
      "text/plain": [
       "            Type  No. of Values  No. of Unique Values  No. of NaN\n",
       "Survived  object            891                     2           0\n",
       "Pclass    object            891                     3           0\n",
       "Name      object            891                   891           0\n",
       "Sex       object            891                     2           0\n",
       "Ticket    object            891                   681           0\n",
       "Cabin     object            204                   148         687\n",
       "Embarked  object            889                     4           2"
      ]
     },
     "execution_count": 16,
     "metadata": {},
     "output_type": "execute_result"
    }
   ],
   "source": [
    "cat_desc_df = desc(train_data)[1]  \n",
    "cat_desc_df"
   ]
  },
  {
   "cell_type": "markdown",
   "metadata": {},
   "source": [
    "# Exploring Key Survival Drivers"
   ]
  },
  {
   "cell_type": "markdown",
   "metadata": {},
   "source": [
    "## What is the relation between Gender and Survival?"
   ]
  },
  {
   "cell_type": "code",
   "execution_count": 15,
   "metadata": {},
   "outputs": [
    {
     "data": {
      "image/png": "[encoded data removed]",
      "text/plain": [
       "<Figure size 432x288 with 2 Axes>"
      ]
     },
     "metadata": {
      "needs_background": "light"
     },
     "output_type": "display_data"
    }
   ],
   "source": [
    "analysis_df = variable_mean_survival('Sex')\n",
    "\n",
    "unique_sexes =  analysis_df.index\n",
    "sex_value_count = analysis_df['countPerVarValue']\n",
    "avg_survival = analysis_df['avg_survival']\n",
    "colors_map = analysis_df['colors_map']\n",
    "\n",
    "fig = plt.figure()\n",
    "\n",
    "plt.subplot(1, 3, 1)\n",
    "plt.bar(unique_sexes,sex_value_count,color=colors_map)\n",
    "plt_settings(plt,'Count Passengers per Gender\\n')\n",
    "plt.xlabel('Gender')\n",
    "plt.ylabel('Number of Passengers')\n",
    "\n",
    "plt.subplot(1, 3, 3)\n",
    "plt.bar(unique_sexes,avg_survival,color=colors_map)\n",
    "plt_settings(plt,'Average Survival Rate per Gender\\n')\n",
    "plt.xlabel('Gender')\n",
    "plt.ylabel('Survival Rate');"
   ]
  },
  {
   "cell_type": "markdown",
   "metadata": {},
   "source": [
    "**Key Takeaway: Females have higher survival rates**"
   ]
  },
  {
   "cell_type": "markdown",
   "metadata": {},
   "source": [
    "### What is the relation between Passenger's Class and Survival?"
   ]
  },
  {
   "cell_type": "code",
   "execution_count": 16,
   "metadata": {},
   "outputs": [
    {
     "data": {
      "image/png": "[encoded data removed]",
      "text/plain": [
       "<Figure size 432x288 with 2 Axes>"
      ]
     },
     "metadata": {
      "needs_background": "light"
     },
     "output_type": "display_data"
    }
   ],
   "source": [
    "analysis_df = variable_mean_survival('Pclass')\n",
    "\n",
    "unique_class =  analysis_df.index\n",
    "class_value_count = analysis_df['countPerVarValue']\n",
    "avg_survival = analysis_df['avg_survival']\n",
    "colors_map = analysis_df['colors_map']\n",
    "\n",
    "plt.subplot(1, 3, 1)\n",
    "plt.bar(unique_class,class_value_count,color=colors_map)\n",
    "plt_settings(plt,'Count Passengers per Class\\n')\n",
    "plt.xticks(ticks=['1','2','3'],labels= ['1st','2nd', '3rd']);\n",
    "plt.xlabel(\"Passengers' Class\")\n",
    "plt.ylabel('Number of Passengers')\n",
    "\n",
    "plt.subplot(1, 3, 3)\n",
    "plt.bar(unique_class,avg_survival,color=colors_map)\n",
    "plt_settings(plt,'Average Survival Rate per Class\\n')\n",
    "plt.xticks(ticks=['1','2','3'],labels= ['1st','2nd', '3rd']);\n",
    "plt.xlabel(\"Passengers' Class\")\n",
    "plt.ylabel('Survival Rate');"
   ]
  },
  {
   "cell_type": "markdown",
   "metadata": {},
   "source": [
    "**Key Takeaway: 1st class passengers have higher survival rates**"
   ]
  },
  {
   "cell_type": "markdown",
   "metadata": {},
   "source": [
    "## What is the relation between Boarding Station and Survival? "
   ]
  },
  {
   "cell_type": "code",
   "execution_count": 17,
   "metadata": {},
   "outputs": [
    {
     "data": {
      "image/png": "[encoded data removed]",
      "text/plain": [
       "<Figure size 432x288 with 2 Axes>"
      ]
     },
     "metadata": {
      "needs_background": "light"
     },
     "output_type": "display_data"
    }
   ],
   "source": [
    "analysis_df = variable_mean_survival('Embarked')\n",
    "\n",
    "unique_embark =  analysis_df.index\n",
    "embark_value_count = analysis_df['countPerVarValue']\n",
    "avg_survival = analysis_df['avg_survival']\n",
    "colors_map = analysis_df['colors_map']\n",
    "\n",
    "\n",
    "plt.subplot(1, 3, 1)\n",
    "plt.bar(unique_embark,embark_value_count,color=colors_map)\n",
    "plt_settings(plt,'Count Passengers\\nper Embarkment Station\\n')\n",
    "plt.xticks(ticks=['C','Q','S'],labels= ['Cherbourg','Queenstown', 'Southampton'], rotation = 75);\n",
    "plt.xlabel('Station')\n",
    "plt.ylabel('Number of Passengers')\n",
    "\n",
    "plt.subplot(1, 3, 3)\n",
    "plt.bar(unique_embark,avg_survival,color=colors_map)\n",
    "plt_settings(plt,'Average Survival Rate\\n per Embarkment Station\\n')\n",
    "plt.xticks(ticks=['C','Q','S'],labels= ['Cherbourg','Queenstown', 'Southampton'], rotation = 75);\n",
    "plt.xlabel('Station')\n",
    "plt.ylabel('Survival Rate');"
   ]
  },
  {
   "cell_type": "markdown",
   "metadata": {},
   "source": [
    "**Key Takeaway: Passengers who departed from Cherbourg have higher survival rates**"
   ]
  },
  {
   "cell_type": "markdown",
   "metadata": {},
   "source": [
    "### What is the nature of passengers who embarked from Cherbourg? (Pclass & Gender)\n",
    "Since by now we know that Gender and Class have high impact on survival rates, these 2 features will be explored here in relation to Cherbourg station to try and explain why this station had such a high impact on survival rates"
   ]
  },
  {
   "cell_type": "code",
   "execution_count": 18,
   "metadata": {},
   "outputs": [
    {
     "name": "stdout",
     "output_type": "stream",
     "text": [
      "\u001b[1mPassengers from Cherbourg were predominantly First Class\n",
      " which explains why they have higher survival chances\u001b[1m\n"
     ]
    },
    {
     "data": {
      "image/png": "[encoded data removed]",
      "text/plain": [
       "<Figure size 432x288 with 2 Axes>"
      ]
     },
     "metadata": {
      "needs_background": "light"
     },
     "output_type": "display_data"
    }
   ],
   "source": [
    "c_df = train_data[train_data['Embarked'] == 'C'][['PassengerId','Sex', 'Pclass', 'Survived']]\n",
    "unique_sex,sex_value_count, avg_survival,colors_map = variable_mean_survival_subset(c_df,'Sex')\n",
    "\n",
    "plt.subplot(1, 3, 1)\n",
    "plt.bar(unique_sex,sex_value_count,color=colors_map)\n",
    "plt_settings(plt,'Count Cherbourg Passengers\\n per Gender\\n')\n",
    "plt.xlabel('Gender')\n",
    "plt.ylabel('Number of Passengers');\n",
    "\n",
    "unique_class,class_value_count, avg_survival,colors_map = variable_mean_survival_subset(c_df,'Pclass')\n",
    "plt.subplot(1, 3, 3)\n",
    "plt.bar(unique_class,class_value_count,color=colors_map)\n",
    "plt_settings(plt,'Count Cherbourg Passengers\\n per Class\\n')\n",
    "plt.xticks(ticks=[0,1,2],labels= ['1st','2nd', '3rd']);\n",
    "plt.xlabel(\"Passengers' Class\")\n",
    "plt.ylabel('Number of Passengers');\n",
    "\n",
    "print('\\033[1m'+'Passengers from Cherbourg were predominantly First Class\\n which explains why they have higher survival chances'+'\\033[1m')"
   ]
  },
  {
   "cell_type": "markdown",
   "metadata": {},
   "source": [
    "**Key Takeaway: Passengers who departed from Cherbourg are mostly 1st class passengers which explains them having higher survival rates**"
   ]
  },
  {
   "cell_type": "markdown",
   "metadata": {},
   "source": [
    "## What is the relation between the passenger's Travel Company Size and Survival?\n",
    "We will analyse siblings, spouses, children, and parents travelling with the passenger"
   ]
  },
  {
   "cell_type": "markdown",
   "metadata": {},
   "source": [
    "Combine SibSp and Parch in one column indicating size of travel company"
   ]
  },
  {
   "cell_type": "code",
   "execution_count": 19,
   "metadata": {},
   "outputs": [],
   "source": [
    "def family_flag(x):\n",
    "    sum_all =  x['SibSp'] + x['Parch']\n",
    "    if sum_all == 0 :\n",
    "        return 'Alone'\n",
    "    elif sum_all < 4:\n",
    "        return 'Small Family'\n",
    "    else:\n",
    "        return 'Big Family'"
   ]
  },
  {
   "cell_type": "code",
   "execution_count": 20,
   "metadata": {},
   "outputs": [],
   "source": [
    "train_data['Family_flag']  = train_data.apply(family_flag, axis=1)"
   ]
  },
  {
   "cell_type": "code",
   "execution_count": 21,
   "metadata": {},
   "outputs": [
    {
     "data": {
      "image/png": "[encoded data removed]",
      "text/plain": [
       "<Figure size 432x288 with 2 Axes>"
      ]
     },
     "metadata": {
      "needs_background": "light"
     },
     "output_type": "display_data"
    }
   ],
   "source": [
    "# reorder the x asis\n",
    "analysis_df = variable_mean_survival('Family_flag')\n",
    "analysis_df = analysis_df.reindex(['Alone', 'Small Family', 'Big Family'])\n",
    "\n",
    "unique_famFlag =  analysis_df.index\n",
    "famFlag_value_count = analysis_df['countPerVarValue']\n",
    "avg_survival = analysis_df['avg_survival']\n",
    "colors_map = analysis_df['colors_map']\n",
    "\n",
    "plt.subplot(1,3,1) \n",
    "plt.bar(list(map(str,unique_famFlag)), famFlag_value_count, color=colors_map)\n",
    "plt_settings(plt,'Count Passengers\\n per Family Flag \\n')\n",
    "plt.xticks(ticks=[0,1,2],labels=['Alone','Small\\nFamily', 'Big\\nFamily'],  rotation = 45);\n",
    "plt.xlabel(\"Family Size\")\n",
    "plt.ylabel('Number of Passengers')\n",
    "\n",
    "plt.subplot(1, 3, 3)\n",
    "plt.bar(list(map(str,unique_famFlag)),avg_survival,color=colors_map)\n",
    "plt_settings(plt,'Average Survival Rate\\nper Family Flag\\n')\n",
    "plt.xticks(ticks=[0,1,2],labels=['Alone','Small\\nFamily', 'Big\\nFamily'],  rotation = 45);\n",
    "plt.xlabel(\"Family Size\")\n",
    "plt.ylabel('Survival Rate');"
   ]
  },
  {
   "cell_type": "markdown",
   "metadata": {},
   "source": [
    "**Key Takeaway: People travelling in small families have higher survival rates**"
   ]
  },
  {
   "cell_type": "markdown",
   "metadata": {},
   "source": [
    "## What is the relation between passengers' Age and Survival?"
   ]
  },
  {
   "cell_type": "code",
   "execution_count": 22,
   "metadata": {},
   "outputs": [
    {
     "data": {
      "text/plain": [
       "<seaborn.axisgrid.FacetGrid at 0x190a271b280>"
      ]
     },
     "execution_count": 22,
     "metadata": {},
     "output_type": "execute_result"
    },
    {
     "data": {
      "image/png": "[encoded data removed]",
      "text/plain": [
       "<Figure size 432x216 with 2 Axes>"
      ]
     },
     "metadata": {
      "needs_background": "light"
     },
     "output_type": "display_data"
    }
   ],
   "source": [
    "g = sns.FacetGrid(train_data, col='Survived')\n",
    "g.map(plt.hist, 'Age', bins=60)"
   ]
  },
  {
   "cell_type": "markdown",
   "metadata": {},
   "source": [
    "### What is the relation between Age Group and Survival?"
   ]
  },
  {
   "cell_type": "code",
   "execution_count": 23,
   "metadata": {},
   "outputs": [],
   "source": [
    "bins = [0, 2, 12, 17, 60, np.inf]\n",
    "labels = ['baby', 'child', 'teenager', 'adult', 'elderly']\n",
    "age_groups = pd.cut(train_data.Age, bins, labels = labels)\n",
    "train_data['Age_Group'] = age_groups"
   ]
  },
  {
   "cell_type": "code",
   "execution_count": 24,
   "metadata": {},
   "outputs": [
    {
     "data": {
      "image/png": "[encoded data removed]",
      "text/plain": [
       "<Figure size 432x288 with 2 Axes>"
      ]
     },
     "metadata": {
      "needs_background": "light"
     },
     "output_type": "display_data"
    }
   ],
   "source": [
    "analysis_df = variable_mean_survival('Age_Group')\n",
    "unique_ageGroup =  analysis_df.index\n",
    "ageGroup_value_count = analysis_df['countPerVarValue']\n",
    "avg_survival = analysis_df['avg_survival']\n",
    "colors_map = analysis_df['colors_map']\n",
    "\n",
    "plt.subplot(1,2,1) \n",
    "plt.bar(unique_ageGroup, ageGroup_value_count, color='#1565e6') #'#0948ad'\n",
    "plt_settings(plt,'Count Passengers\\nper Age Group\\n')\n",
    "plt.xticks(rotation=45)\n",
    "\n",
    "plt.subplot(1, 2, 2)\n",
    "plt.bar(unique_ageGroup,avg_survival,color='#1565e6')\n",
    "plt_settings(plt,'Average Survival Rate\\nper Age Group\\n')\n",
    "plt.xticks(rotation=45);"
   ]
  },
  {
   "cell_type": "markdown",
   "metadata": {},
   "source": [
    "**Key Takeaway: Younger people have higher survival rates**"
   ]
  },
  {
   "cell_type": "markdown",
   "metadata": {},
   "source": [
    "### What are the chances of survival of children with parents vs without parents?"
   ]
  },
  {
   "cell_type": "code",
   "execution_count": 25,
   "metadata": {},
   "outputs": [],
   "source": [
    "df = train_data[train_data['Age_Group'].isin(['baby','child'])]\n",
    "unique_vals = df['Age_Group'].unique()\n",
    "\n",
    "df['Survived'] = df['Survived'].astype(int)\n",
    "df_zeroParents = df[df['Parch']==0]\n",
    "df_withParents = df[df['Parch']>0]"
   ]
  },
  {
   "cell_type": "code",
   "execution_count": 26,
   "metadata": {},
   "outputs": [
    {
     "name": "stdout",
     "output_type": "stream",
     "text": [
      "\u001b[1mThere are no babies travelling alone without parents, so we can focus our analysis on the child age group\u001b[1m\n"
     ]
    },
    {
     "data": {
      "text/html": [
       "<div>\n",
       "<style scoped>\n",
       "    .dataframe tbody tr th:only-of-type {\n",
       "        vertical-align: middle;\n",
       "    }\n",
       "\n",
       "    .dataframe tbody tr th {\n",
       "        vertical-align: top;\n",
       "    }\n",
       "\n",
       "    .dataframe thead th {\n",
       "        text-align: right;\n",
       "    }\n",
       "</style>\n",
       "<table border=\"1\" class=\"dataframe\">\n",
       "  <thead>\n",
       "    <tr style=\"text-align: right;\">\n",
       "      <th></th>\n",
       "      <th>Without_Parents</th>\n",
       "      <th>With_Parents</th>\n",
       "    </tr>\n",
       "  </thead>\n",
       "  <tbody>\n",
       "    <tr>\n",
       "      <th>baby</th>\n",
       "      <td>0</td>\n",
       "      <td>24</td>\n",
       "    </tr>\n",
       "    <tr>\n",
       "      <th>child</th>\n",
       "      <td>3</td>\n",
       "      <td>42</td>\n",
       "    </tr>\n",
       "  </tbody>\n",
       "</table>\n",
       "</div>"
      ],
      "text/plain": [
       "      Without_Parents With_Parents\n",
       "baby                0           24\n",
       "child               3           42"
      ]
     },
     "execution_count": 26,
     "metadata": {},
     "output_type": "execute_result"
    }
   ],
   "source": [
    "df_child_parents_analysis = pd.DataFrame(columns={'With_Parents', 'Without_Parents'}, index=['baby','child'])\n",
    "df_child_parents_analysis.loc['baby']['With_Parents'] = df_withParents[(df_withParents['Age_Group'] == 'baby') & (df_withParents['Parch'] !=0)]['Parch'].count()\n",
    "df_child_parents_analysis.loc['child']['With_Parents'] = df_withParents[(df_withParents['Age_Group'] == 'child') & (df_withParents['Parch'] !=0)]['Parch'].count()\n",
    "df_child_parents_analysis.loc['baby']['Without_Parents'] = df_zeroParents[(df_zeroParents['Age_Group'] == 'baby') & (df_zeroParents['Parch'] ==0)]['Parch'].count()\n",
    "df_child_parents_analysis.loc['child']['Without_Parents'] = df_zeroParents[(df_zeroParents['Age_Group'] == 'child') & (df_zeroParents['Parch'] ==0)]['Parch'].count()\n",
    "\n",
    "print('\\033[1m'+\"There are no babies travelling alone without parents, so we can focus our analysis on the child age group\"+'\\033[1m')\n",
    "df_child_parents_analysis"
   ]
  },
  {
   "cell_type": "code",
   "execution_count": 27,
   "metadata": {},
   "outputs": [
    {
     "data": {
      "image/png": "[encoded data removed]",
      "text/plain": [
       "<Figure size 432x288 with 1 Axes>"
      ]
     },
     "metadata": {
      "needs_background": "light"
     },
     "output_type": "display_data"
    }
   ],
   "source": [
    "df_zeroParents_child = df_zeroParents[df_zeroParents['Age_Group'] == 'child']\n",
    "df_withParents_child = df_withParents[df_withParents['Age_Group'] == 'child']\n",
    "\n",
    "zeroParents_avg_survival = df_zeroParents_child['Survived'].mean()\n",
    "withParents_avg_survival = df_withParents_child['Survived'].mean()\n",
    "\n",
    "labels = ['Child With Parents', 'Child Without Parents']\n",
    "values  = [withParents_avg_survival, zeroParents_avg_survival]\n",
    "plt.bar(labels, values, color=['blue','orange'])\n",
    "plt_settings(plt,'Avg Survival Rates For Children\\n With Parents Vs Without Parents\\n')\n",
    "plt.xlabel('Child Category')\n",
    "plt.ylabel('Average Survival');"
   ]
  },
  {
   "cell_type": "markdown",
   "metadata": {},
   "source": [
    "### What is the relationship between Age and Class?"
   ]
  },
  {
   "cell_type": "code",
   "execution_count": 28,
   "metadata": {},
   "outputs": [
    {
     "data": {
      "image/png": "[encoded data removed]",
      "text/plain": [
       "<Figure size 432x288 with 1 Axes>"
      ]
     },
     "metadata": {
      "needs_background": "light"
     },
     "output_type": "display_data"
    }
   ],
   "source": [
    "baby = train_data[train_data['Age_Group']=='baby']\n",
    "child = train_data[train_data['Age_Group']=='child']\n",
    "teenager = train_data[train_data['Age_Group']=='teenager']\n",
    "adults = train_data[train_data['Age_Group']=='adult']\n",
    "elderly = train_data[train_data['Age_Group']=='elderly']\n",
    "\n",
    "sns.boxplot(x='Pclass',y='Age',data=train_data.sort_values(by='Pclass'), palette='bright')\n",
    "\n",
    "plt_simple_settings(plt,'Age Distribution Per Class')\n",
    "plt.yticks();\n",
    "plt.xticks(ticks=[0,1,2], labels=['1st', '2nd','3rd']);"
   ]
  },
  {
   "cell_type": "markdown",
   "metadata": {},
   "source": [
    "**Key Takeaway: 1st class paasengers tend to be older than 2nd or 3rd class passengers**"
   ]
  },
  {
   "cell_type": "markdown",
   "metadata": {},
   "source": [
    "## What is the relationship between Cabin and Survival?\n",
    "\n",
    "- Following the idea that passengers of no cabin stated (unkown cabins) are of lower classes\n",
    "- Note: Cabins column is 77% nulls making it difficult to be a reliable source of analysis. Therefore, nulls will be considered a category of their own and part of our analysis"
   ]
  },
  {
   "cell_type": "code",
   "execution_count": 29,
   "metadata": {},
   "outputs": [],
   "source": [
    "train_data['Cabin_Flag'] = train_data[\"Cabin\"].notnull().astype(int).map({0: 'unkown cabin', 1: 'known cabin'})"
   ]
  },
  {
   "cell_type": "code",
   "execution_count": 30,
   "metadata": {},
   "outputs": [
    {
     "data": {
      "image/png": "[encoded data removed]",
      "text/plain": [
       "<Figure size 432x288 with 2 Axes>"
      ]
     },
     "metadata": {
      "needs_background": "light"
     },
     "output_type": "display_data"
    }
   ],
   "source": [
    "analysis_df = variable_mean_survival('Cabin_Flag')\n",
    "unique_cabinFlag =  analysis_df.index\n",
    "cabinFlag_value_count = analysis_df['countPerVarValue']\n",
    "avg_survival = analysis_df['avg_survival']\n",
    "colors_map = analysis_df['colors_map']\n",
    "\n",
    "plt.subplot(1,3,1) \n",
    "plt.bar(unique_cabinFlag, cabinFlag_value_count, color=colors_map)\n",
    "plt_settings(plt,'Count Passengers\\nper Cabin_Flag\\n')\n",
    "plt.xticks(ticks=[0,1],labels=['Known\\nCabin', 'Unknown\\nCabin'])\n",
    "\n",
    "plt.subplot(1, 3, 3)\n",
    "plt.bar(unique_cabinFlag,avg_survival,color=colors_map)\n",
    "plt_settings(plt,'Average Survival Rate\\nper Cabin_Flag\\n')\n",
    "plt.xticks(ticks=[0,1],labels=['Known\\nCabin', 'Unknown\\nCabin']);\n",
    " "
   ]
  },
  {
   "cell_type": "markdown",
   "metadata": {},
   "source": [
    "**Key Takeaway: People with known cabins have higher survival rates**"
   ]
  },
  {
   "cell_type": "markdown",
   "metadata": {},
   "source": [
    "### What are the characteristics of passengers with known Vs unkown Cabins?\n",
    "since class and gender are 2 strong predictors, can they be attributed to the observation that people with known cabins having higher survival rates?"
   ]
  },
  {
   "cell_type": "markdown",
   "metadata": {},
   "source": [
    "#### What is the distribution of passengers of different classes across the known and unkown cabins categories?"
   ]
  },
  {
   "cell_type": "code",
   "execution_count": 31,
   "metadata": {},
   "outputs": [],
   "source": [
    "train_data['Survived'] = train_data['Survived'].astype(int)\n",
    "unique_vals = train_data['Cabin_Flag'].unique()\n",
    "\n",
    "known_cabins_df = train_data[train_data['Cabin_Flag']=='known cabin']\n",
    "unknown_cabins_df = train_data[train_data['Cabin_Flag']=='unkown cabin']"
   ]
  },
  {
   "cell_type": "code",
   "execution_count": 32,
   "metadata": {},
   "outputs": [
    {
     "data": {
      "image/png": "[encoded data removed]",
      "text/plain": [
       "<Figure size 432x288 with 1 Axes>"
      ]
     },
     "metadata": {
      "needs_background": "light"
     },
     "output_type": "display_data"
    }
   ],
   "source": [
    "unique_class,class_value_count, avg_survival,colors_map = variable_mean_survival_subset(known_cabins_df,'Pclass')\n",
    "plt.bar(unique_class, class_value_count, color='orange',label='Known Cabin')\n",
    "\n",
    "ax = plt.gca()\n",
    "ax_height=[]\n",
    "ax_patches = []\n",
    "for i, rect in enumerate(ax.patches):\n",
    "        ax_patches.append(rect)\n",
    "        \n",
    "        height = rect.get_height()\n",
    "        \n",
    "        ax_height.append(height)\n",
    "        \n",
    "        ax.text(rect.get_x() + rect.get_width() / 2, height,  str(round(height, 2)),\n",
    "                ha='center', va='bottom') \n",
    "\n",
    "\n",
    "unique_class,unknown_class_value_count, avg_survival,colors_map = variable_mean_survival_subset(unknown_cabins_df,'Pclass')\n",
    "plt.bar(unique_class, unknown_class_value_count, bottom=class_value_count , color='royalblue',label='Unnown Cabin');\n",
    "\n",
    "ax2 = plt.gca()\n",
    "j=0\n",
    "for i, rect in enumerate(ax2.patches):\n",
    "\n",
    "    if rect not in ax_patches:\n",
    "        height = rect.get_height()\n",
    "        pos = height\n",
    "        pos += ax_patches[j].get_height()\n",
    "        j+=1\n",
    "        ax2.text(rect.get_x() + rect.get_width() / 2, pos,  str(round(height, 2)),\n",
    "                ha='center', va='bottom') \n",
    "\n",
    "        \n",
    "plt.legend()\n",
    "plt.xticks(ticks=[0,1,2], labels=['1st','2nd','3rd']);\n",
    "plt.xlabel('Class')\n",
    "plt.ylabel('Number of Passengers')\n",
    "ax.set_yticklabels([])\n",
    "for spine in ax.spines:\n",
    "    ax.spines[spine].set_visible(False)\n",
    "ax.tick_params(axis=u'both', which=u'both',length=0)\n",
    "plt.title('Count of Passengers Per Class \\n for known Vs Unknown Cabins\\n');\n"
   ]
  },
  {
   "cell_type": "markdown",
   "metadata": {},
   "source": [
    "**Key Takeaway: People with known cabins ae mostly 1st class which explains them having higher survival rates**"
   ]
  },
  {
   "cell_type": "markdown",
   "metadata": {},
   "source": [
    "#### What is the distribution of passengers of different genders across the known and unkown cabins categories?"
   ]
  },
  {
   "cell_type": "code",
   "execution_count": 33,
   "metadata": {},
   "outputs": [
    {
     "name": "stdout",
     "output_type": "stream",
     "text": [
      "\u001b[1mThe gender doesn't look like it is related to the imapct of known vs unkown cabins on survival\n",
      "because males are predominant in both categories\u001b[1m\n"
     ]
    },
    {
     "data": {
      "image/png": "[encoded data removed]",
      "text/plain": [
       "<Figure size 432x288 with 1 Axes>"
      ]
     },
     "metadata": {
      "needs_background": "light"
     },
     "output_type": "display_data"
    }
   ],
   "source": [
    "unique_gender,gender_value_count, avg_survival,colors_map = variable_mean_survival_subset(known_cabins_df,'Sex')\n",
    "plt.bar(unique_gender, gender_value_count, color='orange',label='Known Cabin')\n",
    "\n",
    "ax = plt.gca()\n",
    "ax_height=[]\n",
    "ax_patches = []\n",
    "for i, rect in enumerate(ax.patches):\n",
    "        ax_patches.append(rect)\n",
    "        \n",
    "        height = rect.get_height()\n",
    "        \n",
    "        ax_height.append(height)\n",
    "        \n",
    "        ax.text(rect.get_x() + rect.get_width() / 2, height,  str(round(height, 2)),\n",
    "                ha='center', va='bottom') \n",
    "\n",
    "\n",
    "unique_gender,unknown_gender_value_count, avg_survival,colors_map = variable_mean_survival_subset(unknown_cabins_df,'Sex')\n",
    "plt.bar(unique_gender, unknown_gender_value_count, bottom=gender_value_count , color='royalblue',label='Unnown Cabin');\n",
    "\n",
    "ax2 = plt.gca()\n",
    "j=0\n",
    "for i, rect in enumerate(ax2.patches):\n",
    "\n",
    "    if rect not in ax_patches:\n",
    "        height = rect.get_height()\n",
    "        pos = height\n",
    "        pos += ax_patches[j].get_height()\n",
    "        j+=1\n",
    "        ax2.text(rect.get_x() + rect.get_width() / 2, pos,  str(round(height, 2)),\n",
    "                ha='center', va='bottom') \n",
    "\n",
    "        \n",
    "plt.legend()\n",
    "plt.xticks(ticks=[0,1], labels=['female','male']);\n",
    "plt.xlabel('Gender')\n",
    "plt.ylabel('Number of Passengers')\n",
    "ax.set_yticklabels([])\n",
    "for spine in ax.spines:\n",
    "    ax.spines[spine].set_visible(False)\n",
    "ax.tick_params(axis=u'both', which=u'both',length=0)\n",
    "plt.title('Count of Passengers Per Class \\n for known Vs Unknown Cabins\\n');\n",
    "print('\\033[1m'+\"The gender doesn't look like it is related to the imapct of known vs unkown cabins on survival\\nbecause males are predominant in both categories\"+'\\033[1m')"
   ]
  },
  {
   "cell_type": "markdown",
   "metadata": {},
   "source": [
    "**The gender doesn't look like it is related to the imapct of known vs unkown cabins on survival\n",
    "because males are predominant in both categories**"
   ]
  },
  {
   "cell_type": "markdown",
   "metadata": {},
   "source": [
    "### What is the relationship between the Cabin Category and Survival?\n",
    "- Cabins are 77% nulls so we will leave Category 'N' to represent unkown cabins\n",
    "- According to [this link](https://www.encyclopedia-titanica.org/cabins.html) it seems that different cabin categories are associated with more than just one class"
   ]
  },
  {
   "cell_type": "code",
   "execution_count": 34,
   "metadata": {},
   "outputs": [],
   "source": [
    "train_data['Cabin_Cat'] = train_data['Cabin'].apply(lambda x:str(x)[0].upper())"
   ]
  },
  {
   "cell_type": "code",
   "execution_count": 35,
   "metadata": {},
   "outputs": [
    {
     "data": {
      "text/html": [
       "<div>\n",
       "<style scoped>\n",
       "    .dataframe tbody tr th:only-of-type {\n",
       "        vertical-align: middle;\n",
       "    }\n",
       "\n",
       "    .dataframe tbody tr th {\n",
       "        vertical-align: top;\n",
       "    }\n",
       "\n",
       "    .dataframe thead th {\n",
       "        text-align: right;\n",
       "    }\n",
       "</style>\n",
       "<table border=\"1\" class=\"dataframe\">\n",
       "  <thead>\n",
       "    <tr style=\"text-align: right;\">\n",
       "      <th></th>\n",
       "      <th>Pclass</th>\n",
       "    </tr>\n",
       "    <tr>\n",
       "      <th>Cabin_Cat</th>\n",
       "      <th></th>\n",
       "    </tr>\n",
       "  </thead>\n",
       "  <tbody>\n",
       "    <tr>\n",
       "      <th>A</th>\n",
       "      <td>1</td>\n",
       "    </tr>\n",
       "    <tr>\n",
       "      <th>B</th>\n",
       "      <td>1</td>\n",
       "    </tr>\n",
       "    <tr>\n",
       "      <th>C</th>\n",
       "      <td>1</td>\n",
       "    </tr>\n",
       "    <tr>\n",
       "      <th>D</th>\n",
       "      <td>2,1</td>\n",
       "    </tr>\n",
       "    <tr>\n",
       "      <th>E</th>\n",
       "      <td>1,2,3</td>\n",
       "    </tr>\n",
       "    <tr>\n",
       "      <th>F</th>\n",
       "      <td>2,3</td>\n",
       "    </tr>\n",
       "    <tr>\n",
       "      <th>G</th>\n",
       "      <td>3</td>\n",
       "    </tr>\n",
       "    <tr>\n",
       "      <th>N</th>\n",
       "      <td>3,2,1</td>\n",
       "    </tr>\n",
       "    <tr>\n",
       "      <th>T</th>\n",
       "      <td>1</td>\n",
       "    </tr>\n",
       "  </tbody>\n",
       "</table>\n",
       "</div>"
      ],
      "text/plain": [
       "          Pclass\n",
       "Cabin_Cat       \n",
       "A              1\n",
       "B              1\n",
       "C              1\n",
       "D            2,1\n",
       "E          1,2,3\n",
       "F            2,3\n",
       "G              3\n",
       "N          3,2,1\n",
       "T              1"
      ]
     },
     "execution_count": 35,
     "metadata": {},
     "output_type": "execute_result"
    }
   ],
   "source": [
    "df = pd.DataFrame(train_data.groupby('Cabin_Cat')['Pclass'].unique())\n",
    "df['Pclass'] = [','.join(map(str, l)) for l in df['Pclass']]\n",
    "df"
   ]
  },
  {
   "cell_type": "code",
   "execution_count": 36,
   "metadata": {},
   "outputs": [
    {
     "data": {
      "image/png": "[encoded data removed]",
      "text/plain": [
       "<Figure size 576x360 with 2 Axes>"
      ]
     },
     "metadata": {
      "needs_background": "light"
     },
     "output_type": "display_data"
    }
   ],
   "source": [
    "analysis_df = variable_mean_survival('Cabin_Cat')\n",
    "unique_cabinCat =  analysis_df.index\n",
    "cabinCat_value_count = analysis_df['countPerVarValue']\n",
    "avg_survival = analysis_df['avg_survival']\n",
    "colors_map = analysis_df['colors_map']\n",
    "\n",
    "plt.figure(figsize=(8,5))\n",
    "gspec = gridspec.GridSpec(24, 50)\n",
    "\n",
    "plot1 = plt.subplot(gspec[:, :15])\n",
    "plot1.barh(unique_cabinCat, cabinCat_value_count, height = 0.5)\n",
    "ax = plt.gca()\n",
    "for spine in ax.spines:\n",
    "    ax.spines[spine].set_visible(False)\n",
    "ax.tick_params(axis=u'both', which=u'both',length=0)\n",
    "ax.get_xaxis().set_visible(False)  \n",
    "plt.title('Count Passengers\\nper Cabin Category\\n');\n",
    "for i, rect in enumerate(ax.patches):\n",
    "    v =  rect.get_y()\n",
    "    ax.text( v + rect.get_width(), i-.25 , str(rect.get_width()))\n",
    "    \n",
    "plot2 = plt.subplot(gspec[:, 30:]) \n",
    "plot2.barh(unique_cabinCat, avg_survival, height = 0.5)\n",
    "ax = plt.gca()\n",
    "for spine in ax.spines:\n",
    "    ax.spines[spine].set_visible(False)\n",
    "ax.tick_params(axis=u'both', which=u'both',length=0)\n",
    "ax.get_xaxis().set_visible(False)  \n",
    "plt.title('Average Survival Rate\\nper Cabin Category\\n');\n",
    "for i, rect in enumerate(ax.patches):\n",
    "    v =  rect.get_y()\n",
    "    width = rect.get_width()\n",
    "    ax.text(rect.get_width() , i-.25 , str(round(width,2)))    \n",
    "    "
   ]
  },
  {
   "cell_type": "markdown",
   "metadata": {},
   "source": [
    "**Key Takeaway: Some cabin categories have higher survival rates**"
   ]
  },
  {
   "cell_type": "code",
   "execution_count": 37,
   "metadata": {},
   "outputs": [],
   "source": [
    "copy_df = train_data[['PassengerId', 'Cabin_Cat','Pclass']]\n",
    "\n",
    "cabin_class_df = pd.DataFrame(copy_df.groupby(['Cabin_Cat','Pclass'])['PassengerId'].count()).rename(columns={'PassengerId':'Passengers_count'})\n",
    "cabin_class_df['Passengers_count'] =  round(cabin_class_df['Passengers_count']/m*100,2)\n",
    "\n",
    "scaler = MinMaxScaler(feature_range=(1,3))\n",
    "cabin_class_df['Passengers_count']  = scaler.fit_transform(np.array(cabin_class_df['Passengers_count']).reshape(-1, 1)  )\n",
    "\n",
    "labels_titles = list(cabin_class_df.index.get_level_values(0).unique())\n",
    "class1 = cabin_class_df[cabin_class_df.index.get_level_values(1)=='1']\n",
    "class2 = cabin_class_df[cabin_class_df.index.get_level_values(1)=='2']\n",
    "class3 = cabin_class_df[cabin_class_df.index.get_level_values(1)=='3']\n",
    "labels_titles = pd.DataFrame(labels_titles).rename(columns={0:'Cabin_Cat'})\n",
    "class1 = labels_titles.merge(class1, on ='Cabin_Cat', how='left' )\n",
    "class2 = labels_titles.merge(class2, on ='Cabin_Cat', how='left' )\n",
    "class3 = labels_titles.merge(class3, on ='Cabin_Cat', how='left' )"
   ]
  },
  {
   "cell_type": "code",
   "execution_count": 38,
   "metadata": {},
   "outputs": [
    {
     "data": {
      "image/png": "[encoded data removed]",
      "text/plain": [
       "<Figure size 720x360 with 1 Axes>"
      ]
     },
     "metadata": {
      "needs_background": "light"
     },
     "output_type": "display_data"
    }
   ],
   "source": [
    "labels_titles = list(cabin_class_df.index.get_level_values(0).unique())\n",
    "fig, ax = plt.subplots(figsize=(10,5))\n",
    "\n",
    "ax.barh(labels_titles, class1['Passengers_count'], height = 0.5, label='1st Class')\n",
    "ax.barh(labels_titles, class2['Passengers_count'], height = 0.5 , left = class1['Passengers_count'].apply(lambda x:0 if pd.isnull(x) else x), label='2nd Class')\n",
    "ax.barh(labels_titles, class3['Passengers_count'], height = 0.5, left = (class1['Passengers_count'].apply(lambda x:0 if pd.isnull(x) else x)+class2['Passengers_count'].apply(lambda x:0 if pd.isnull(x) else x)) , label='3rd Class')\n",
    "plt.legend(loc='lower right');\n",
    "plt.xlabel('Percentage of Class Representation')\n",
    "plt.ylabel('Cabin Category');\n",
    "plt_simple_settings(plt, 'Distibution of Classes in different Cabin Categories')\n"
   ]
  },
  {
   "cell_type": "markdown",
   "metadata": {},
   "source": [
    "## What is the relationship between Fare and Survival?"
   ]
  },
  {
   "cell_type": "code",
   "execution_count": 39,
   "metadata": {},
   "outputs": [
    {
     "data": {
      "image/png": "[encoded data removed]",
      "text/plain": [
       "<Figure size 432x288 with 1 Axes>"
      ]
     },
     "metadata": {
      "needs_background": "light"
     },
     "output_type": "display_data"
    }
   ],
   "source": [
    "survived_fare = train_data[train_data['Survived']==1]['Fare']\n",
    "NOsurvived_fare = train_data[train_data['Survived']==0]['Fare']\n",
    "\n",
    "plt.hist(NOsurvived_fare, label = 'Survived=0', alpha=0.7);\n",
    "plt.hist(survived_fare, label = 'Survived=1', alpha=0.5);\n",
    "plt.legend();\n",
    "ax = plt.gca()\n",
    "ax.spines['right'].set_visible(False)\n",
    "ax.spines['top'].set_visible(False)\n",
    "plt.xlabel('Fare')\n",
    "plt.ylabel('Count')\n",
    "plt.title('Fare Distribution Per Survival State');"
   ]
  },
  {
   "cell_type": "markdown",
   "metadata": {},
   "source": [
    "**Key Takeaway: Higher Fares are assoicated with higher survival rates**"
   ]
  },
  {
   "cell_type": "markdown",
   "metadata": {},
   "source": [
    "### What is the relation between Fare and Class?"
   ]
  },
  {
   "cell_type": "code",
   "execution_count": 40,
   "metadata": {},
   "outputs": [
    {
     "data": {
      "image/png": "[encoded data removed]",
      "text/plain": [
       "<Figure size 576x360 with 1 Axes>"
      ]
     },
     "metadata": {
      "needs_background": "light"
     },
     "output_type": "display_data"
    }
   ],
   "source": [
    "class1_fare = train_data[train_data['Pclass']=='1']['Fare']\n",
    "class2_fare = train_data[train_data['Pclass']=='2']['Fare']\n",
    "class3_fare = train_data[train_data['Pclass']=='3']['Fare']\n",
    "\n",
    "plt.figure(figsize=(8,5))\n",
    "plt.hist(class1_fare, label = '1st Class', alpha=0.5,bins=7,histtype='stepfilled');\n",
    "plt.hist(class2_fare, label = '2nd Class', alpha=0.7,bins=7,histtype='stepfilled');\n",
    "plt.hist(class3_fare, label = '3rd Class', alpha=0.5,bins=7,histtype='stepfilled');\n",
    "\n",
    "plt.legend()\n",
    "ax = plt.gca()\n",
    "ax.spines['right'].set_visible(False)\n",
    "ax.spines['top'].set_visible(False)\n",
    "plt.xlabel('Fare')\n",
    "plt.ylabel('Count')\n",
    "plt.title('Fare Distribution Per Class');"
   ]
  },
  {
   "cell_type": "markdown",
   "metadata": {},
   "source": [
    "**Key Takeaway: Higher Fares are assoicated with 1st class passengers which explains them having higher survival rates**"
   ]
  },
  {
   "cell_type": "markdown",
   "metadata": {},
   "source": [
    "## Name - Title Vs Survival"
   ]
  },
  {
   "cell_type": "code",
   "execution_count": 41,
   "metadata": {},
   "outputs": [],
   "source": [
    "train_data['passenger_title'] = train_data.Name.apply(lambda x: x.split(',',1)[1].split('.')[0].strip()).values"
   ]
  },
  {
   "cell_type": "code",
   "execution_count": 42,
   "metadata": {},
   "outputs": [
    {
     "data": {
      "image/png": "[encoded data removed]",
      "text/plain": [
       "<Figure size 576x360 with 2 Axes>"
      ]
     },
     "metadata": {
      "needs_background": "light"
     },
     "output_type": "display_data"
    }
   ],
   "source": [
    "analyses_df = variable_mean_survival_sorted_survival('passenger_title')\n",
    "unique_title = list(analyses_df.index)\n",
    "title_value_count = list(analyses_df['countPerVarValue'])\n",
    "avg_survival = list(analyses_df['avg_survival'])\n",
    "\n",
    "plt.figure(figsize=(8,5))\n",
    "gspec = gridspec.GridSpec(24, 50)\n",
    "\n",
    "\n",
    "plot1 = plt.subplot(gspec[:, :15])\n",
    "plot1.barh(unique_title, title_value_count, height = 0.5)\n",
    "ax = plt.gca()\n",
    "for spine in ax.spines:\n",
    "    ax.spines[spine].set_visible(False)\n",
    "ax.tick_params(axis=u'both', which=u'both',length=0)\n",
    "ax.get_xaxis().set_visible(False)  \n",
    "plt.title('Count Passengers\\nper Passenger Title\\n');\n",
    "for i, rect in enumerate(ax.patches):\n",
    "    v =  rect.get_y()\n",
    "    ax.text( v + rect.get_width(), i-.25 , str(rect.get_width()))\n",
    "    \n",
    "    \n",
    "    \n",
    "plot2 = plt.subplot(gspec[:, 30:]) \n",
    "   \n",
    "plot2.barh(unique_title, avg_survival, height = 0.5)\n",
    "ax = plt.gca()\n",
    "for spine in ax.spines:\n",
    "    ax.spines[spine].set_visible(False)\n",
    "ax.tick_params(axis=u'both', which=u'both',length=0)\n",
    "ax.get_xaxis().set_visible(False)  \n",
    "plt.title('Average Survival Rate\\nper Passenger Title\\n');\n",
    "for i, rect in enumerate(ax.patches):\n",
    "    v =  rect.get_y()\n",
    "    width = rect.get_width()\n",
    "    ax.text(rect.get_width() , i-.25 , str(round(width,2)))"
   ]
  },
  {
   "cell_type": "markdown",
   "metadata": {},
   "source": [
    "**Key Takeaway: Some titles are assoicated with higher survival rates**"
   ]
  },
  {
   "cell_type": "markdown",
   "metadata": {},
   "source": [
    "### What is the relationshio between Passengers' Titles and Class?"
   ]
  },
  {
   "cell_type": "code",
   "execution_count": 43,
   "metadata": {},
   "outputs": [],
   "source": [
    "copy_df = train_data[['PassengerId', 'passenger_title','Pclass']]\n",
    "\n",
    "title_class_df = pd.DataFrame(copy_df.groupby(['passenger_title','Pclass'])['PassengerId'].count()).rename(columns={'PassengerId':'Passengers_count'})\n",
    "title_class_df['Passengers_count'] =  round(title_class_df['Passengers_count']/m*100,2)"
   ]
  },
  {
   "cell_type": "code",
   "execution_count": 44,
   "metadata": {},
   "outputs": [],
   "source": [
    "scaler = MinMaxScaler(feature_range=(0.5,2))\n",
    "title_class_df['Passengers_count']  = scaler.fit_transform(np.array(title_class_df['Passengers_count']).reshape(-1, 1)  )"
   ]
  },
  {
   "cell_type": "code",
   "execution_count": 45,
   "metadata": {},
   "outputs": [],
   "source": [
    "labels_titles = list(title_class_df.index.get_level_values(0).unique())\n",
    "class1 = title_class_df[title_class_df.index.get_level_values(1)=='1']\n",
    "class2 = title_class_df[title_class_df.index.get_level_values(1)=='2']\n",
    "class3 = title_class_df[title_class_df.index.get_level_values(1)=='3']\n",
    "labels_titles = pd.DataFrame(labels_titles).rename(columns={0:'passenger_title'})\n",
    "class1 = labels_titles.merge(class1, on ='passenger_title', how='left' )\n",
    "class2 = labels_titles.merge(class2, on ='passenger_title', how='left' )\n",
    "class3 = labels_titles.merge(class3, on ='passenger_title', how='left' )"
   ]
  },
  {
   "cell_type": "code",
   "execution_count": 62,
   "metadata": {},
   "outputs": [
    {
     "data": {
      "image/png": "[encoded data removed]",
      "text/plain": [
       "<Figure size 720x360 with 1 Axes>"
      ]
     },
     "metadata": {
      "needs_background": "light"
     },
     "output_type": "display_data"
    }
   ],
   "source": [
    "labels_titles = list(title_class_df.index.get_level_values(0).unique())\n",
    "fig, ax = plt.subplots(figsize=(10,5))\n",
    "\n",
    "ax.barh(labels_titles, class1['Passengers_count'], height = 0.5, label='1st Class')\n",
    "ax.barh(labels_titles, class2['Passengers_count'], height = 0.5 , left = class1['Passengers_count'].apply(lambda x:0 if pd.isnull(x) else x), label='2nd Class')\n",
    "ax.barh(labels_titles, class3['Passengers_count'], height = 0.5, left = (class1['Passengers_count'].apply(lambda x:0 if pd.isnull(x) else x)+class2['Passengers_count'].apply(lambda x:0 if pd.isnull(x) else x)) , label='3rd Class')\n",
    "plt.legend(loc='upper right');\n",
    "plt_simple_settings(plt, 'Class distribution per Passenger Title\\nordered by survival rates')\n",
    "plt.ylabel('Passenger Title')\n",
    "plt.xlabel('Scaled Class Percentage');"
   ]
  },
  {
   "cell_type": "markdown",
   "metadata": {},
   "source": [
    "### What is the relationship between Ticket and Survival?"
   ]
  },
  {
   "cell_type": "markdown",
   "metadata": {},
   "source": [
    "- It looks like the Ticket is split into a prefix and a number sometimes and only numbers some other times.\n",
    "- Followed strategy here is to split the prefix from the number and check their avergae survival rates "
   ]
  },
  {
   "cell_type": "code",
   "execution_count": 47,
   "metadata": {},
   "outputs": [],
   "source": [
    "train_data['Tckt_Pre'] = train_data['Ticket'].apply(lambda x: x.rsplit(' ',1)[0]  if len(x.rsplit(' ',1))>1 else np.nan)\n",
    "train_data['Tckt_Pre'] = train_data['Tckt_Pre'].apply(lambda x: x if pd.isnull(x) else x.translate(str.maketrans('', '', string.punctuation)).replace(\" \", \"\"))\n",
    "train_data['Tckt_Num'] = train_data['Ticket'].apply(lambda x: x.rsplit(' ',1)[1]  if len(x.rsplit(' ',1))>1 else x.rsplit(' ',1)[0])\n",
    "train_data['Tckt_Num'] = train_data['Tckt_Num'].apply(lambda x: x if pd.isnull(x) else x.translate(str.maketrans('', '', string.punctuation)))"
   ]
  },
  {
   "cell_type": "markdown",
   "metadata": {},
   "source": [
    "### What is the relationship between ticket prefix and survival rates?"
   ]
  },
  {
   "cell_type": "code",
   "execution_count": 48,
   "metadata": {},
   "outputs": [
    {
     "data": {
      "image/png": "[encoded data removed]",
      "text/plain": [
       "<Figure size 576x576 with 1 Axes>"
      ]
     },
     "metadata": {
      "needs_background": "light"
     },
     "output_type": "display_data"
    }
   ],
   "source": [
    "analyses_df = variable_mean_survival_sorted_survival('Tckt_Pre')\n",
    "unique_TcktPre = list(analyses_df.index)\n",
    "title_value_count = list(analyses_df['countPerVarValue'])\n",
    "avg_survival = list(analyses_df['avg_survival'])\n",
    "\n",
    "plt.figure(figsize=(8,8))\n",
    "gspec = gridspec.GridSpec(24, 50)\n",
    "plot1 = plt.subplot(gspec[:, :])\n",
    "\n",
    "plot1.barh(unique_TcktPre, avg_survival, height = 0.5);\n",
    "\n",
    "plt.title('Average Survival Rates per Ticket Prefix')\n",
    "plt.ylabel('Ticket Prefix')\n",
    "plt.xlabel('Average Survival')\n",
    "ax = plt.gca()\n",
    "for spine in ax.spines:\n",
    "    ax.spines[spine].set_visible(False)\n",
    "ax.tick_params(axis=u'both', which=u'both',length=0)\n",
    "ax.set_xticklabels([])\n",
    "for i, rect in enumerate(ax.patches):\n",
    "    v =  rect.get_y()\n",
    "    ax.text(x=rect.get_width(),y=i-.25,s=str(rect.get_width()))"
   ]
  },
  {
   "cell_type": "markdown",
   "metadata": {},
   "source": [
    "**Key Takeaway: Some Ticket prefixes are assoicated with higher survival rates**"
   ]
  },
  {
   "cell_type": "markdown",
   "metadata": {},
   "source": [
    "### Which boarding stations are associated with each Ticket Prefix?"
   ]
  },
  {
   "cell_type": "code",
   "execution_count": 49,
   "metadata": {},
   "outputs": [],
   "source": [
    "copy_df = train_data[['PassengerId', 'Tckt_Pre','Embarked']]\n",
    "\n",
    "tckt_pre_station_distribustion = pd.DataFrame(copy_df.groupby(['Tckt_Pre','Embarked']).count()).rename(columns={'PassengerId':'Passengers_count'})"
   ]
  },
  {
   "cell_type": "code",
   "execution_count": 50,
   "metadata": {},
   "outputs": [],
   "source": [
    "labels_TcktPres = list(tckt_pre_station_distribustion.index.get_level_values(0).unique())\n",
    "\n",
    "analysis_df_s = tckt_pre_station_distribustion[tckt_pre_station_distribustion.index.get_level_values(1) == 'S']\n",
    "analysis_df_c = tckt_pre_station_distribustion[tckt_pre_station_distribustion.index.get_level_values(1) == 'C']\n",
    "analysis_df_q = tckt_pre_station_distribustion[tckt_pre_station_distribustion.index.get_level_values(1) == 'Q']\n",
    " \n",
    "labels_TcktPres = pd.DataFrame(labels_TcktPres).rename(columns={0:'Tckt_Pre'})\n",
    "analysis_df_s = labels_TcktPres.merge(analysis_df_s, on ='Tckt_Pre', how='left' )\n",
    "analysis_df_c = labels_TcktPres.merge(analysis_df_c, on ='Tckt_Pre', how='left' )\n",
    "analysis_df_q = labels_TcktPres.merge(analysis_df_q, on ='Tckt_Pre', how='left' )\n",
    "\n",
    "analysis_df_s = analysis_df_s.set_index('Tckt_Pre').reindex(unique_TcktPre)\n",
    "analysis_df_c = analysis_df_c.set_index('Tckt_Pre').reindex(unique_TcktPre)\n",
    "analysis_df_q = analysis_df_q.set_index('Tckt_Pre').reindex(unique_TcktPre)"
   ]
  },
  {
   "cell_type": "code",
   "execution_count": 64,
   "metadata": {},
   "outputs": [
    {
     "data": {
      "image/png": "[encoded data removed]",
      "text/plain": [
       "<Figure size 864x504 with 1 Axes>"
      ]
     },
     "metadata": {
      "needs_background": "light"
     },
     "output_type": "display_data"
    }
   ],
   "source": [
    "labels_titles = unique_TcktPre\n",
    "fig, ax = plt.subplots(figsize=(12,7))\n",
    "\n",
    "ax.barh(labels_titles, analysis_df_s['Passengers_count'], height = 0.5, label='Southhampton')\n",
    "ax.barh(labels_titles, analysis_df_c['Passengers_count'], height = 0.5 , left = analysis_df_s['Passengers_count'].apply(lambda x:0 if pd.isnull(x) else x), label='Cherbourg')\n",
    "ax.barh(labels_titles, analysis_df_q['Passengers_count'], height = 0.5, left = (analysis_df_s['Passengers_count'].apply(lambda x:0 if pd.isnull(x) else x)+analysis_df_c['Passengers_count'].apply(lambda x:0 if pd.isnull(x) else x)) , label='Queenstown')\n",
    "plt.legend(loc='upper right');\n",
    "plt_simple_settings(plt, 'Stations distribution per Ticket Prefix\\nordered by survival rate')\n",
    "plt.ylabel('Ticket Prefix')\n",
    "plt.xlabel('Stations Count');"
   ]
  },
  {
   "cell_type": "markdown",
   "metadata": {},
   "source": [
    "### What is the relationship between number of passengers on the same ticket and survival rates?"
   ]
  },
  {
   "cell_type": "code",
   "execution_count": 52,
   "metadata": {},
   "outputs": [],
   "source": [
    "def get_cnt_tckt_passengers(col_val):\n",
    "    ticket_passenger_cnt_df = pd.DataFrame(train_data.groupby('Ticket')['PassengerId'].count()).rename(columns={'PassengerId':'#Passengers'})\n",
    "    tckt = col_val\n",
    "    return ticket_passenger_cnt_df.loc[tckt]['#Passengers']"
   ]
  },
  {
   "cell_type": "code",
   "execution_count": 53,
   "metadata": {},
   "outputs": [],
   "source": [
    "train_data['Tckt_Passengers_Cnt'] = train_data['Ticket'].apply(lambda x: get_cnt_tckt_passengers(x))\n",
    "train_data['Tckt_MultiPassengers'] = train_data['Tckt_Passengers_Cnt'].apply(lambda x: 'Multi' if x>1 else 'Alone')"
   ]
  },
  {
   "cell_type": "code",
   "execution_count": 55,
   "metadata": {},
   "outputs": [
    {
     "data": {
      "image/png": "[encoded data removed]",
      "text/plain": [
       "<Figure size 432x288 with 1 Axes>"
      ]
     },
     "metadata": {
      "needs_background": "light"
     },
     "output_type": "display_data"
    }
   ],
   "source": [
    "analysis_df = variable_mean_survival('Tckt_MultiPassengers')\n",
    "unique_value =  analysis_df.index\n",
    "unique_value_count = analysis_df['countPerVarValue']\n",
    "avg_survival = analysis_df['avg_survival']\n",
    "colors_map = analysis_df['colors_map']\n",
    "\n",
    "plt.bar(list(unique_value),avg_survival,color=colors_map)\n",
    "plt_settings(plt,'Average Survival Rate \\nFor Travellers Alone Vs With Others\\n')\n",
    "plt.xticks(ticks=[0,1], labels=['Alone', 'With Others']);\n",
    "plt.ylabel('Average Survival Rate');\n",
    "plt.xlabel('Travel Company');"
   ]
  },
  {
   "cell_type": "markdown",
   "metadata": {},
   "source": [
    "**Key Takeaway: People Travelling with others have higher survival rates**"
   ]
  },
  {
   "cell_type": "markdown",
   "metadata": {},
   "source": [
    "At this point, we have two features indicating whether the passenger was travelling alone or with others:\n",
    "- Family size based on Siblings, Spouses, Parents, and Children columns\n",
    "- Number of passengers assigned to the same ticket  \n",
    "\n",
    "**Note that it was found that some passengers can be marked as travelling with others based on the Ticket column, but still have 0's in Siblings, Spouses, Parents, and Children columns. Therefore, a combination of both flags could prove useful.**"
   ]
  },
  {
   "cell_type": "markdown",
   "metadata": {},
   "source": [
    "# Dealing with Nulls and Missing values"
   ]
  },
  {
   "cell_type": "code",
   "execution_count": 56,
   "metadata": {},
   "outputs": [],
   "source": [
    "titanic_train_data = train_data.copy()"
   ]
  },
  {
   "cell_type": "markdown",
   "metadata": {},
   "source": [
    "### Embaked\n",
    "has only 2 missing values, so they will be dropped"
   ]
  },
  {
   "cell_type": "code",
   "execution_count": 57,
   "metadata": {},
   "outputs": [],
   "source": [
    "titanic_train_data.dropna(subset=['Embarked'],inplace = True)"
   ]
  },
  {
   "cell_type": "markdown",
   "metadata": {},
   "source": [
    "### Age\n",
    "- replace missing ages by avg age of passengers of the same class\n",
    "- re-categorize passengers into Age Groups after filling missing values"
   ]
  },
  {
   "cell_type": "code",
   "execution_count": 58,
   "metadata": {},
   "outputs": [],
   "source": [
    "def get_class_avgAge():\n",
    "    return titanic_train_data.groupby('Pclass')['Age'].mean()\n",
    "\n",
    "def derive_age(cols):\n",
    "    Age = cols[0]\n",
    "    Pclass = cols[1]\n",
    "    if pd.isnull(Age):\n",
    "        return get_class_avgAge()[Pclass]\n",
    "    else:\n",
    "        return Age\n",
    "\n",
    "titanic_train_data['Age'] = titanic_train_data[['Age','Pclass']].apply(derive_age,axis=1)  \n",
    "titanic_train_data['Age'] = round(titanic_train_data['Age'], 2)\n",
    "\n",
    "bins = [0, 2, 12, 17, 60, np.inf]\n",
    "labels = ['baby', 'child', 'teenager', 'adult', 'elderly']\n",
    "age_groups = pd.cut(titanic_train_data.Age, bins, labels = labels)\n",
    "titanic_train_data['Age_Group'] = age_groups\n",
    "titanic_train_data['Age_Group'] = titanic_train_data['Age_Group'].astype(str)"
   ]
  },
  {
   "cell_type": "markdown",
   "metadata": {},
   "source": [
    "## Fare\n",
    "- replace missing fares wih avg class fare "
   ]
  },
  {
   "cell_type": "code",
   "execution_count": 59,
   "metadata": {},
   "outputs": [],
   "source": [
    "def get_class_avgFare():\n",
    "    return titanic_train_data.groupby('Pclass')['Fare'].mean()\n",
    "    \n",
    "def derive_Fare(cols):\n",
    "    Fare = cols[0]\n",
    "    Pclass = cols[1]\n",
    "    if pd.isnull(Fare):\n",
    "        return get_class_avgFare()[Pclass]\n",
    "    else:\n",
    "        return Fare   \n",
    "    \n",
    "titanic_train_data['Fare'] = titanic_train_data[['Fare','Pclass']].apply(derive_Fare,axis=1)    "
   ]
  },
  {
   "cell_type": "markdown",
   "metadata": {},
   "source": [
    "## Data types handling\n",
    "turn categorical data and Flags into str instead of int"
   ]
  },
  {
   "cell_type": "code",
   "execution_count": 60,
   "metadata": {},
   "outputs": [],
   "source": [
    "titanic_train_data.Pclass = titanic_train_data.Pclass.astype(str)\n",
    "titanic_train_data.Survived = titanic_train_data.Survived.astype(str)"
   ]
  },
  {
   "cell_type": "markdown",
   "metadata": {},
   "source": [
    "## Saving Processed Data"
   ]
  },
  {
   "cell_type": "code",
   "execution_count": 61,
   "metadata": {},
   "outputs": [],
   "source": [
    "titanic_train_data.to_csv(processed_data_path, index=False)"
   ]
  }
 ],
 "metadata": {
  "kernelspec": {
   "display_name": "Python 3",
   "language": "python",
   "name": "python3"
  },
  "language_info": {
   "codemirror_mode": {
    "name": "ipython",
    "version": 3
   },
   "file_extension": ".py",
   "mimetype": "text/x-python",
   "name": "python",
   "nbconvert_exporter": "python",
   "pygments_lexer": "ipython3",
   "version": "3.8.5"
  }
 },
 "nbformat": 4,
 "nbformat_minor": 4
}
